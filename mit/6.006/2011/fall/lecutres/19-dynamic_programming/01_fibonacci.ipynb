{
 "cells": [
  {
   "cell_type": "markdown",
   "id": "surface-intensity",
   "metadata": {},
   "source": [
    "### Old, straight-forward recursive fibonnacci function"
   ]
  },
  {
   "cell_type": "code",
   "execution_count": 3,
   "id": "beautiful-phase",
   "metadata": {},
   "outputs": [],
   "source": [
    "def fib_straight(n):\n",
    "    if n <=2:\n",
    "        f = 1\n",
    "    else:\n",
    "        f = fib_straight(n-1) + fib_straight(n-2)\n",
    "    return f"
   ]
  },
  {
   "cell_type": "code",
   "execution_count": 6,
   "id": "tribal-sweet",
   "metadata": {},
   "outputs": [
    {
     "name": "stdout",
     "output_type": "stream",
     "text": [
      "CPU times: user 3.77 s, sys: 2.98 ms, total: 3.77 s\n",
      "Wall time: 4.08 s\n"
     ]
    },
    {
     "data": {
      "text/plain": [
       "9227465"
      ]
     },
     "execution_count": 6,
     "metadata": {},
     "output_type": "execute_result"
    }
   ],
   "source": [
    "%time fib_straight(35)"
   ]
  },
  {
   "cell_type": "markdown",
   "id": "gentle-equation",
   "metadata": {},
   "source": [
    "### Memoized"
   ]
  },
  {
   "cell_type": "code",
   "execution_count": 1,
   "id": "complicated-ranch",
   "metadata": {},
   "outputs": [],
   "source": [
    "memo = {}\n",
    "def fib_memo(n):\n",
    "    if n in memo:\n",
    "        return memo[n]\n",
    "    if n <= 2:\n",
    "        f = 1\n",
    "    else:\n",
    "        f = fib_memo(n-1) + fib_memo(n-2)\n",
    "    memo[n] = f\n",
    "    return f"
   ]
  },
  {
   "cell_type": "code",
   "execution_count": 7,
   "id": "accredited-advocate",
   "metadata": {},
   "outputs": [
    {
     "name": "stdout",
     "output_type": "stream",
     "text": [
      "CPU times: user 18 µs, sys: 1 µs, total: 19 µs\n",
      "Wall time: 29.1 µs\n"
     ]
    },
    {
     "data": {
      "text/plain": [
       "9227465"
      ]
     },
     "execution_count": 7,
     "metadata": {},
     "output_type": "execute_result"
    }
   ],
   "source": [
    "%time fib_memo(35)"
   ]
  },
  {
   "cell_type": "markdown",
   "id": "agreed-parameter",
   "metadata": {},
   "source": [
    "**(?1)** Would it make any difference had we chosen to make `memo` a `List` instead of a `Dictionary`?"
   ]
  },
  {
   "cell_type": "markdown",
   "id": "processed-fourth",
   "metadata": {},
   "source": [
    "### Bottom-up DP\n",
    "_**Bottom-up**_ can be a fancy term, but you can think of it as\n",
    "> Bottom-up uses **`for` loop** and memoization uses **recursion**\n",
    "\n",
    "Essentially, in the case of fibonacci sequence, bottom-up and memoization do more or less the same computations, except the bottom-up DP might be slightly faster because it does not have to pay the cost of function calls."
   ]
  },
  {
   "cell_type": "code",
   "execution_count": 10,
   "id": "tender-slovenia",
   "metadata": {},
   "outputs": [
    {
     "name": "stdout",
     "output_type": "stream",
     "text": [
      "CPU times: user 81 µs, sys: 2 µs, total: 83 µs\n",
      "Wall time: 90.8 µs\n"
     ]
    },
    {
     "data": {
      "text/plain": [
       "9227465"
      ]
     },
     "execution_count": 10,
     "metadata": {},
     "output_type": "execute_result"
    }
   ],
   "source": [
    "%%time\n",
    "n = 35\n",
    "fib = {}\n",
    "for k in range(1, n+1):\n",
    "    if k <= 2:\n",
    "        f = 1\n",
    "    else:\n",
    "        f = fib[k-1] + fib[k-2]\n",
    "    fib[k] = f\n",
    "fib[n]"
   ]
  },
  {
   "cell_type": "code",
   "execution_count": null,
   "id": "limiting-license",
   "metadata": {},
   "outputs": [],
   "source": []
  }
 ],
 "metadata": {
  "kernelspec": {
   "display_name": "Python 3",
   "language": "python",
   "name": "python3"
  },
  "language_info": {
   "codemirror_mode": {
    "name": "ipython",
    "version": 3
   },
   "file_extension": ".py",
   "mimetype": "text/x-python",
   "name": "python",
   "nbconvert_exporter": "python",
   "pygments_lexer": "ipython3",
   "version": "3.7.9"
  }
 },
 "nbformat": 4,
 "nbformat_minor": 5
}
