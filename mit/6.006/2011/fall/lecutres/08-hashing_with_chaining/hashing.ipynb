{
 "cells": [
  {
   "cell_type": "code",
   "execution_count": 2,
   "id": "efficient-replication",
   "metadata": {},
   "outputs": [
    {
     "data": {
      "text/plain": [
       "{'India': 'rupee', 'Taiwan': 'NT$', 'Japan': 'yen', 'Vietnam': 'dong'}"
      ]
     },
     "execution_count": 2,
     "metadata": {},
     "output_type": "execute_result"
    }
   ],
   "source": [
    "D = {\"India\": \"rupee\", \"Taiwan\": \"NT$\", \"Japan\": \"yen\", \"Vietnam\": \"dong\"}\n",
    "D"
   ]
  },
  {
   "cell_type": "code",
   "execution_count": 3,
   "id": "formed-origin",
   "metadata": {},
   "outputs": [
    {
     "data": {
      "text/plain": [
       "{'India': 'rupee', 'Japan': 'yen', 'Vietnam': 'dong'}"
      ]
     },
     "execution_count": 3,
     "metadata": {},
     "output_type": "execute_result"
    }
   ],
   "source": [
    "del D[\"Taiwan\"]\n",
    "D"
   ]
  },
  {
   "cell_type": "raw",
   "id": "martial-correlation",
   "metadata": {},
   "source": [
    "del D[\"Taiwan\"]"
   ]
  },
  {
   "cell_type": "raw",
   "id": "featured-harbor",
   "metadata": {},
   "source": [
    "---------------------------------------------------------------------------\n",
    "KeyError                                  Traceback (most recent call last)\n",
    "<ipython-input-4-d3bc996fd909> in <module>\n",
    "----> 1 del D[\"Taiwan\"]\n",
    "\n",
    "KeyError: 'Taiwan'"
   ]
  },
  {
   "cell_type": "markdown",
   "id": "answering-roots",
   "metadata": {},
   "source": [
    "As mentioned in the video lecture, an **item** means a `(key, value)` pair. We can ask Python to show us this."
   ]
  },
  {
   "cell_type": "code",
   "execution_count": 5,
   "id": "stupid-therapy",
   "metadata": {},
   "outputs": [
    {
     "data": {
      "text/plain": [
       "dict_items([('India', 'rupee'), ('Japan', 'yen'), ('Vietnam', 'dong')])"
      ]
     },
     "execution_count": 5,
     "metadata": {},
     "output_type": "execute_result"
    }
   ],
   "source": [
    "D.items()"
   ]
  },
  {
   "cell_type": "markdown",
   "id": "married-likelihood",
   "metadata": {},
   "source": [
    "### Prehash\n",
    "Python's `hash()` function is really be called **prehash**."
   ]
  },
  {
   "cell_type": "code",
   "execution_count": 6,
   "id": "hungry-render",
   "metadata": {},
   "outputs": [
    {
     "data": {
      "text/plain": [
       "6698863521241296242"
      ]
     },
     "execution_count": 6,
     "metadata": {},
     "output_type": "execute_result"
    }
   ],
   "source": [
    "hash(\"India\")"
   ]
  },
  {
   "cell_type": "markdown",
   "id": "empirical-model",
   "metadata": {},
   "source": [
    "If `hash()`'s input arg is an integer, it returns the same integer."
   ]
  },
  {
   "cell_type": "code",
   "execution_count": 7,
   "id": "veterinary-investigator",
   "metadata": {},
   "outputs": [],
   "source": [
    "import random"
   ]
  },
  {
   "cell_type": "code",
   "execution_count": 10,
   "id": "opposite-moisture",
   "metadata": {},
   "outputs": [
    {
     "name": "stdout",
     "output_type": "stream",
     "text": [
      "n = hash(n) for all n\n"
     ]
    }
   ],
   "source": [
    "for _ in range(20):\n",
    "    n = random.randint(0, 999999999)\n",
    "    hashed = hash(n)\n",
    "    if n != hashed:\n",
    "        print(f\"Found counterexample: n = {n}, hash(n) = {hash(n)}\")\n",
    "else:\n",
    "    print(\"n = hash(n) for all n\")"
   ]
  },
  {
   "cell_type": "code",
   "execution_count": 12,
   "id": "addressed-license",
   "metadata": {},
   "outputs": [
    {
     "data": {
      "text/plain": [
       "False"
      ]
     },
     "execution_count": 12,
     "metadata": {},
     "output_type": "execute_result"
    }
   ],
   "source": [
    "hash(\"\\0B\") == hash(\"\\0\\0C\")"
   ]
  },
  {
   "cell_type": "code",
   "execution_count": 13,
   "id": "discrete-mailman",
   "metadata": {},
   "outputs": [
    {
     "data": {
      "text/plain": [
       "(-2841230793334613582, -4510595041369355494)"
      ]
     },
     "execution_count": 13,
     "metadata": {},
     "output_type": "execute_result"
    }
   ],
   "source": [
    "hash(\"\\0B\"), hash(\"\\0\\0C\")"
   ]
  },
  {
   "cell_type": "code",
   "execution_count": 14,
   "id": "secret-survivor",
   "metadata": {},
   "outputs": [
    {
     "data": {
      "text/plain": [
       "(-3888411689794948060, -6561255444319036736)"
      ]
     },
     "execution_count": 14,
     "metadata": {},
     "output_type": "execute_result"
    }
   ],
   "source": [
    "hash(r\"\\0B\"), hash(r\"\\0\\0C\")"
   ]
  },
  {
   "cell_type": "markdown",
   "id": "increased-gospel",
   "metadata": {},
   "source": [
    "This notebook is run under Python3. The above collision only takes place in Python2:\n",
    "```python\n",
    "Python 2.7.18 (default, Sep  5 2020, 11:17:26)\n",
    "Type \"copyright\", \"credits\" or \"license\" for more information.\n",
    "\n",
    "IPython 5.10.0 -- An enhanced Interactive Python.\n",
    "?         -> Introduction and overview of IPython's features.\n",
    "%quickref -> Quick reference.\n",
    "help      -> Python's own help system.\n",
    "object?   -> Details about 'object', use 'object??' for extra details.\n",
    "\n",
    "In [1]: hash(\"\\0B\") == hash(\"\\0\\0C\")\n",
    "Out[1]: True\n",
    "\n",
    "In [2]: hash(\"\\0B\"), hash(\"\\0\\0C\")\n",
    "Out[2]: (64, 64)\n",
    "```"
   ]
  },
  {
   "cell_type": "code",
   "execution_count": 15,
   "id": "radio-diagnosis",
   "metadata": {},
   "outputs": [],
   "source": [
    "L = [1,2,3]"
   ]
  },
  {
   "cell_type": "raw",
   "id": "incident-alarm",
   "metadata": {},
   "source": [
    "hash(L)"
   ]
  },
  {
   "cell_type": "raw",
   "id": "reliable-equality",
   "metadata": {},
   "source": [
    "---------------------------------------------------------------------------\n",
    "TypeError                                 Traceback (most recent call last)\n",
    "<ipython-input-16-7ecceff0b495> in <module>\n",
    "----> 1 hash(L)\n",
    "\n",
    "TypeError: unhashable type: 'list'"
   ]
  },
  {
   "cell_type": "markdown",
   "id": "complex-palmer",
   "metadata": {},
   "source": [
    "**(?1)** What is really the definition of **hashing**? How is it different from a prehash?<br>"
   ]
  },
  {
   "cell_type": "markdown",
   "id": "blessed-framework",
   "metadata": {},
   "source": [
    "**(?2)** $\\;\\alpha = \\frac{n}{m} = \\Theta(1),$ where $n$ and $m$ are the number of keys and the number of slots, resp.,\n",
    "if $m = \\Theta(n).$"
   ]
  },
  {
   "cell_type": "markdown",
   "id": "dynamic-surveillance",
   "metadata": {},
   "source": [
    "### Hash functions\n",
    "1. division method: $h(k) = k \\mod m$\n",
    "  - Bad when $k$ and $m$ have common divisors, e.g. when $k$ and $m$ are both even, then we will only be\n",
    "  using half of the slots because the remainder when dividing $k$ by $m$ is always even.\n",
    "  - Good when $m$ is a prime, or at least not powers of $2$ or powers of $10.$\n",
    "2. multiplication method: **_Re-watch this part in the video lecture (the last 15 miniutes)_**"
   ]
  },
  {
   "cell_type": "code",
   "execution_count": null,
   "id": "threaded-treasure",
   "metadata": {},
   "outputs": [],
   "source": []
  }
 ],
 "metadata": {
  "kernelspec": {
   "display_name": "Python 3",
   "language": "python",
   "name": "python3"
  },
  "language_info": {
   "codemirror_mode": {
    "name": "ipython",
    "version": 3
   },
   "file_extension": ".py",
   "mimetype": "text/x-python",
   "name": "python",
   "nbconvert_exporter": "python",
   "pygments_lexer": "ipython3",
   "version": "3.7.10"
  }
 },
 "nbformat": 4,
 "nbformat_minor": 5
}
