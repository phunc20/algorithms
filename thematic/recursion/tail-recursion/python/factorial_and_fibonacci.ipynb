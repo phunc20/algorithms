{
 "cells": [
  {
   "cell_type": "markdown",
   "id": "blank-thursday",
   "metadata": {},
   "source": [
    "### Factorial $\\; n! = n \\times (n-1) \\times (n-2) \\times \\cdots \\times 1$"
   ]
  },
  {
   "cell_type": "code",
   "execution_count": 1,
   "id": "selected-fellow",
   "metadata": {},
   "outputs": [],
   "source": [
    "def factorial(n):\n",
    "    if not isinstance(n, int):\n",
    "        raise NotImplementedError(\"For the time being, we only accept integer input arg.\")\n",
    "    if n < 0:\n",
    "        raise ValueError(\"Input arg should be POSITIVE int.\")\n",
    "    if n in (0, 1):\n",
    "        return 1\n",
    "    else:\n",
    "        return n*factorial(n-1)\n",
    "\n",
    "\n",
    "def factorial_tail(n):\n",
    "    if not isinstance(n, int):\n",
    "        raise NotImplementedError(\"For the time being, we only accept integer input arg.\")\n",
    "    if n < 0:\n",
    "        raise ValueError(\"Input arg should be POSITIVE int.\")\n",
    "\n",
    "    def auxtail(n, accumulated=1):\n",
    "        if n in (0, 1):\n",
    "            return accumulated\n",
    "        else:\n",
    "            return auxtail(n-1, n*accumulated)\n",
    "\n",
    "    return auxtail(n)"
   ]
  },
  {
   "cell_type": "code",
   "execution_count": 2,
   "id": "musical-freeze",
   "metadata": {},
   "outputs": [
    {
     "data": {
      "text/plain": [
       "402387260077093773543702433923003985719374864210714632543799910429938512398629020592044208486969404800479988610197196058631666872994808558901323829669944590997424504087073759918823627727188732519779505950995276120874975462497043601418278094646496291056393887437886487337119181045825783647849977012476632889835955735432513185323958463075557409114262417474349347553428646576611667797396668820291207379143853719588249808126867838374559731746136085379534524221586593201928090878297308431392844403281231558611036976801357304216168747609675871348312025478589320767169132448426236131412508780208000261683151027341827977704784635868170164365024153691398281264810213092761244896359928705114964975419909342221566832572080821333186116811553615836546984046708975602900950537616475847728421889679646244945160765353408198901385442487984959953319101723355556602139450399736280750137837615307127761926849034352625200015888535147331611702103968175921510907788019393178114194545257223865541461062892187960223838971476088506276862967146674697562911234082439208160153780889893964518263243671616762179168909779911903754031274622289988005195444414282012187361745992642956581746628302955570299024324153181617210465832036786906117260158783520751516284225540265170483304226143974286933061690897968482590125458327168226458066526769958652682272807075781391858178889652208164348344825993266043367660176999612831860788386150279465955131156552036093988180612138558600301435694527224206344631797460594682573103790084024432438465657245014402821885252470935190620929023136493273497565513958720559654228749774011413346962715422845862377387538230483865688976461927383814900140767310446640259899490222221765904339901886018566526485061799702356193897017860040811889729918311021171229845901641921068884387121855646124960798722908519296819372388642614839657382291123125024186649353143970137428531926649875337218940694281434118520158014123344828015051399694290153483077644569099073152433278288269864602789864321139083506217095002597389863554277196742822248757586765752344220207573630569498825087968928162753848863396909959826280956121450994871701244516461260379029309120889086942028510640182154399457156805941872748998094254742173582401063677404595741785160829230135358081840096996372524230560855903700624271243416909004153690105933983835777939410970027753472000000000000000000000000000000000000000000000000000000000000000000000000000000000000000000000000000000000000000000000000000000000000000000000000000000000000000000000000000000000000000000000000000000000000000000000000000000000000000000000000000000000"
      ]
     },
     "execution_count": 2,
     "metadata": {},
     "output_type": "execute_result"
    }
   ],
   "source": [
    "factorial_tail(10**3)"
   ]
  },
  {
   "cell_type": "raw",
   "id": "framed-flour",
   "metadata": {},
   "source": [
    "factorial_tail(10**4)"
   ]
  },
  {
   "cell_type": "raw",
   "id": "expensive-jerusalem",
   "metadata": {},
   "source": [
    "RecursionError: maximum recursion depth exceeded in comparison"
   ]
  },
  {
   "cell_type": "code",
   "execution_count": 3,
   "id": "thousand-oracle",
   "metadata": {},
   "outputs": [
    {
     "name": "stdout",
     "output_type": "stream",
     "text": [
      "836 µs ± 73.1 µs per loop (mean ± std. dev. of 7 runs, 1000 loops each)\n"
     ]
    }
   ],
   "source": [
    "%timeit factorial_tail(10**3)"
   ]
  },
  {
   "cell_type": "code",
   "execution_count": 4,
   "id": "hidden-gender",
   "metadata": {},
   "outputs": [
    {
     "name": "stdout",
     "output_type": "stream",
     "text": [
      "649 µs ± 29.6 µs per loop (mean ± std. dev. of 7 runs, 1000 loops each)\n"
     ]
    }
   ],
   "source": [
    "%timeit factorial(10**3)"
   ]
  },
  {
   "cell_type": "markdown",
   "id": "matched-empire",
   "metadata": {},
   "source": [
    "I cannot seem to find any persuasive reason for using tail recursion over normal recursion in Python. Some people say that Python **does not support** tail call optimization."
   ]
  },
  {
   "cell_type": "code",
   "execution_count": 5,
   "id": "false-floor",
   "metadata": {},
   "outputs": [
    {
     "name": "stdout",
     "output_type": "stream",
     "text": [
      "26.6 µs ± 883 ns per loop (mean ± std. dev. of 7 runs, 10000 loops each)\n"
     ]
    }
   ],
   "source": [
    "%timeit factorial_tail(10**2)"
   ]
  },
  {
   "cell_type": "code",
   "execution_count": 6,
   "id": "arctic-denial",
   "metadata": {},
   "outputs": [
    {
     "name": "stdout",
     "output_type": "stream",
     "text": [
      "40.5 µs ± 2.13 µs per loop (mean ± std. dev. of 7 runs, 10000 loops each)\n"
     ]
    }
   ],
   "source": [
    "%timeit factorial(10**2)"
   ]
  },
  {
   "cell_type": "code",
   "execution_count": 7,
   "id": "confidential-money",
   "metadata": {},
   "outputs": [],
   "source": [
    "for i in range(10**3):\n",
    "    if factorial(i) != factorial_tail(i):\n",
    "        print(f\"factorial({i}) != factorial_tail({i})\")"
   ]
  },
  {
   "cell_type": "markdown",
   "id": "elect-montgomery",
   "metadata": {},
   "source": [
    "### Fibonacci sequence"
   ]
  },
  {
   "cell_type": "code",
   "execution_count": 8,
   "id": "smooth-miller",
   "metadata": {},
   "outputs": [],
   "source": [
    "def fibonacci(n):\n",
    "    if not isinstance(n, int):\n",
    "        raise NotImplementedError(\"For the time being, we only accept integer input arg.\")\n",
    "    if n < 0:\n",
    "        raise ValueError(\"Input arg should be POSITIVE int.\")\n",
    "    if n in (0,1):\n",
    "        return n\n",
    "    else:\n",
    "        return fibonacci(n-1) + fibonacci(n-2)\n",
    "\n",
    "\n",
    "def fibonacci_tail(n):\n",
    "    if not isinstance(n, int):\n",
    "        raise NotImplementedError(\"For the time being, we only accept integer input arg.\")\n",
    "    if n < 0:\n",
    "        raise ValueError(\"Input arg should be POSITIVE int.\")\n",
    "    def auxiliary(n, pair=(0,1)):\n",
    "        \"\"\"\n",
    "        args\n",
    "          n, int\n",
    "          pair, tuple\n",
    "            (a0, a1)\n",
    "        \"\"\"\n",
    "        if n in (0,1):\n",
    "            return pair[n]\n",
    "        else:\n",
    "            return auxiliary(n-1, (pair[1], pair[0]+pair[1]))\n",
    "    return auxiliary(n)"
   ]
  },
  {
   "cell_type": "code",
   "execution_count": 9,
   "id": "pressed-divide",
   "metadata": {},
   "outputs": [
    {
     "data": {
      "text/plain": [
       "(832040, 832040)"
      ]
     },
     "execution_count": 9,
     "metadata": {},
     "output_type": "execute_result"
    }
   ],
   "source": [
    "n = 30\n",
    "fibonacci(n), fibonacci_tail(n)"
   ]
  },
  {
   "cell_type": "code",
   "execution_count": 10,
   "id": "parental-supervisor",
   "metadata": {},
   "outputs": [],
   "source": [
    "for i in range(30):\n",
    "    if fibonacci(i) != fibonacci_tail(i):\n",
    "        print(f\"fibonacci({i}) != fibonacci_tail({i})\")"
   ]
  },
  {
   "cell_type": "code",
   "execution_count": 11,
   "id": "strange-truck",
   "metadata": {},
   "outputs": [
    {
     "name": "stdout",
     "output_type": "stream",
     "text": [
      "7.37 ms ± 486 µs per loop (mean ± std. dev. of 7 runs, 100 loops each)\n"
     ]
    }
   ],
   "source": [
    "%timeit fibonacci(20)"
   ]
  },
  {
   "cell_type": "code",
   "execution_count": 12,
   "id": "looking-violence",
   "metadata": {},
   "outputs": [
    {
     "name": "stdout",
     "output_type": "stream",
     "text": [
      "6.76 µs ± 89.9 ns per loop (mean ± std. dev. of 7 runs, 100000 loops each)\n"
     ]
    }
   ],
   "source": [
    "%timeit fibonacci_tail(20)"
   ]
  },
  {
   "cell_type": "code",
   "execution_count": 13,
   "id": "internal-series",
   "metadata": {},
   "outputs": [
    {
     "name": "stdout",
     "output_type": "stream",
     "text": [
      "CPU times: user 836 ms, sys: 0 ns, total: 836 ms\n",
      "Wall time: 865 ms\n"
     ]
    },
    {
     "data": {
      "text/plain": [
       "832040"
      ]
     },
     "execution_count": 13,
     "metadata": {},
     "output_type": "execute_result"
    }
   ],
   "source": [
    "%time fibonacci(30)"
   ]
  },
  {
   "cell_type": "code",
   "execution_count": 14,
   "id": "rough-arrest",
   "metadata": {},
   "outputs": [
    {
     "name": "stdout",
     "output_type": "stream",
     "text": [
      "CPU times: user 28 µs, sys: 0 ns, total: 28 µs\n",
      "Wall time: 31.5 µs\n"
     ]
    },
    {
     "data": {
      "text/plain": [
       "832040"
      ]
     },
     "execution_count": 14,
     "metadata": {},
     "output_type": "execute_result"
    }
   ],
   "source": [
    "%time fibonacci_tail(30)"
   ]
  },
  {
   "cell_type": "code",
   "execution_count": 15,
   "id": "seven-likelihood",
   "metadata": {},
   "outputs": [],
   "source": [
    "n = 100"
   ]
  },
  {
   "cell_type": "raw",
   "id": "altered-liberal",
   "metadata": {},
   "source": [
    "%%time\n",
    "# so slow that we dare not run\n",
    "fibonacci(n)"
   ]
  },
  {
   "cell_type": "code",
   "execution_count": 16,
   "id": "golden-virginia",
   "metadata": {},
   "outputs": [
    {
     "name": "stdout",
     "output_type": "stream",
     "text": [
      "CPU times: user 88 µs, sys: 2 µs, total: 90 µs\n",
      "Wall time: 93.7 µs\n"
     ]
    },
    {
     "data": {
      "text/plain": [
       "354224848179261915075"
      ]
     },
     "execution_count": 16,
     "metadata": {},
     "output_type": "execute_result"
    }
   ],
   "source": [
    "%%time\n",
    "# so fast that we dare run\n",
    "fibonacci_tail(n)"
   ]
  },
  {
   "cell_type": "markdown",
   "id": "nasty-software",
   "metadata": {},
   "source": [
    "It seems that\n",
    "- Different from `factorial()`, `fibonacci()` does not suffer from the `maximum recursion depth exceeded` problem\n",
    "- `fibonacci()` does demonstrate a **significant difference of running time** btw the tail-recursive version and the non tai-recursive version"
   ]
  }
 ],
 "metadata": {
  "kernelspec": {
   "display_name": "Python 3",
   "language": "python",
   "name": "python3"
  },
  "language_info": {
   "codemirror_mode": {
    "name": "ipython",
    "version": 3
   },
   "file_extension": ".py",
   "mimetype": "text/x-python",
   "name": "python",
   "nbconvert_exporter": "python",
   "pygments_lexer": "ipython3",
   "version": "3.7.8"
  }
 },
 "nbformat": 4,
 "nbformat_minor": 5
}
