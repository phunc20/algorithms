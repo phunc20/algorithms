{
 "cells": [
  {
   "cell_type": "markdown",
   "id": "disciplinary-tokyo",
   "metadata": {},
   "source": [
    "## Implementation of Merge Sort in Julia"
   ]
  },
  {
   "cell_type": "code",
   "execution_count": 1,
   "id": "secret-proxy",
   "metadata": {
    "scrolled": true
   },
   "outputs": [],
   "source": [
    "using BenchmarkTools"
   ]
  },
  {
   "cell_type": "code",
   "execution_count": 2,
   "id": "appropriate-shadow",
   "metadata": {},
   "outputs": [
    {
     "name": "stdout",
     "output_type": "stream",
     "text": [
      "\u001b[32m\u001b[1mStatus\u001b[22m\u001b[39m `~/.julia/environments/v1.5/Project.toml`\n",
      " \u001b[90m [6e4b80f9] \u001b[39m\u001b[37mBenchmarkTools v0.5.0\u001b[39m\n"
     ]
    }
   ],
   "source": [
    "]status BenchmarkTools"
   ]
  },
  {
   "cell_type": "code",
   "execution_count": 3,
   "id": "respective-pound",
   "metadata": {},
   "outputs": [
    {
     "data": {
      "text/plain": [
       "merge1 (generic function with 1 method)"
      ]
     },
     "execution_count": 3,
     "metadata": {},
     "output_type": "execute_result"
    }
   ],
   "source": [
    "function merge1(A::Array, p::Integer, q::Integer, r::Integer)\n",
    "  L = A[p:q]\n",
    "  push!(L, Inf)\n",
    "  R = A[q+1:r]\n",
    "  push!(R, Inf)\n",
    "  i = 1\n",
    "  j = 1\n",
    "  for k in p:r\n",
    "    if L[i] <= R[j]\n",
    "      A[k] = L[i]\n",
    "      i += 1\n",
    "    else\n",
    "      A[k] = R[j]\n",
    "      j += 1\n",
    "    end\n",
    "  end\n",
    "end"
   ]
  },
  {
   "cell_type": "markdown",
   "id": "local-wallet",
   "metadata": {},
   "source": [
    "**(?)** Here, which would be better? Using `view` or using copy? When implementing a `MERGE` procedure w/o sentinel, try implement one using `view`.<br>\n",
    "**(R)** My opinion is that we cannot use `view`. Cf. The section on **Performance Measure** below."
   ]
  },
  {
   "cell_type": "code",
   "execution_count": 4,
   "id": "adequate-walter",
   "metadata": {},
   "outputs": [
    {
     "data": {
      "text/plain": [
       "merge2 (generic function with 1 method)"
      ]
     },
     "execution_count": 4,
     "metadata": {},
     "output_type": "execute_result"
    }
   ],
   "source": [
    "# Don't use push!\n",
    "function merge2(A::Array, p::Integer, q::Integer, r::Integer)\n",
    "  n1 = q - p + 1\n",
    "  n2 = r - q\n",
    "  L = zeros(n1+1)\n",
    "  R = zeros(n2+1)\n",
    "  L[1:end-1] = A[p:q]\n",
    "  L[end] = Inf\n",
    "  R[1:end-1] = A[q+1:r]\n",
    "  R[end] = Inf\n",
    "  i = 1\n",
    "  j = 1\n",
    "  for k in p:r\n",
    "    if L[i] <= R[j]\n",
    "      A[k] = L[i]\n",
    "      i += 1\n",
    "    else\n",
    "      A[k] = R[j]\n",
    "      j += 1\n",
    "    end\n",
    "  end\n",
    "end"
   ]
  },
  {
   "cell_type": "code",
   "execution_count": 5,
   "id": "relative-casting",
   "metadata": {},
   "outputs": [
    {
     "data": {
      "text/plain": [
       "DataType"
      ]
     },
     "execution_count": 5,
     "metadata": {},
     "output_type": "execute_result"
    }
   ],
   "source": [
    "typeof(Function)"
   ]
  },
  {
   "cell_type": "code",
   "execution_count": 6,
   "id": "brown-driver",
   "metadata": {},
   "outputs": [
    {
     "data": {
      "text/plain": [
       "true"
      ]
     },
     "execution_count": 6,
     "metadata": {},
     "output_type": "execute_result"
    }
   ],
   "source": [
    "merge1 isa Function"
   ]
  },
  {
   "cell_type": "code",
   "execution_count": 7,
   "id": "excess-label",
   "metadata": {},
   "outputs": [
    {
     "data": {
      "text/plain": [
       "merge_sort (generic function with 1 method)"
      ]
     },
     "execution_count": 7,
     "metadata": {},
     "output_type": "execute_result"
    }
   ],
   "source": [
    "# Int or other type is better?\n",
    "#function merge_sort(A::Array, p::Integer, r::Integer; merge::Function=merge2)\n",
    "function merge_sort(A::Array, p::Integer, r::Integer)\n",
    "  if p < r\n",
    "    q = floor((p+r)/2)\n",
    "    merge_sort(A, p, q)\n",
    "    merge_sort(A, q+1, r)\n",
    "    merge2(A, p, q, r)\n",
    "  end\n",
    "end"
   ]
  },
  {
   "cell_type": "code",
   "execution_count": 8,
   "id": "military-withdrawal",
   "metadata": {},
   "outputs": [
    {
     "data": {
      "text/plain": [
       "true"
      ]
     },
     "execution_count": 8,
     "metadata": {},
     "output_type": "execute_result"
    }
   ],
   "source": [
    "Int == Int64"
   ]
  },
  {
   "cell_type": "code",
   "execution_count": 9,
   "id": "renewable-nutrition",
   "metadata": {},
   "outputs": [
    {
     "data": {
      "text/plain": [
       "true"
      ]
     },
     "execution_count": 9,
     "metadata": {},
     "output_type": "execute_result"
    }
   ],
   "source": [
    "Int <: Integer"
   ]
  },
  {
   "cell_type": "code",
   "execution_count": 10,
   "id": "considered-chase",
   "metadata": {},
   "outputs": [
    {
     "name": "stdout",
     "output_type": "stream",
     "text": [
      "Int64 <: Signed <: Integer <: Real <: Number <: Any"
     ]
    }
   ],
   "source": [
    "Base.show_supertypes(Int)"
   ]
  },
  {
   "cell_type": "markdown",
   "id": "french-deployment",
   "metadata": {},
   "source": [
    "**(?)** Actually, the input args `p, q, r` above will always be positive integers (because they represents indices). Wouldn't specifying/restricting\n",
    "the type declaration in the function argument to `::Unsigned` a better choice?"
   ]
  },
  {
   "cell_type": "code",
   "execution_count": 11,
   "id": "endangered-visiting",
   "metadata": {
    "scrolled": true
   },
   "outputs": [
    {
     "data": {
      "text/plain": [
       "10-element Array{Int64,1}:\n",
       " 34\n",
       " 55\n",
       " 86\n",
       "  8\n",
       " 26\n",
       " 35\n",
       " 68\n",
       " 42\n",
       " 48\n",
       "  7"
      ]
     },
     "execution_count": 11,
     "metadata": {},
     "output_type": "execute_result"
    }
   ],
   "source": [
    "A = rand(1:100, 10)"
   ]
  },
  {
   "cell_type": "code",
   "execution_count": 12,
   "id": "integral-assist",
   "metadata": {
    "scrolled": true
   },
   "outputs": [
    {
     "ename": "LoadError",
     "evalue": "MethodError: no method matching merge_sort(::Array{Int64,1}, ::Int64, ::Float64)\nClosest candidates are:\n  merge_sort(::Array, ::Integer, !Matched::Integer) at In[7]:3",
     "output_type": "error",
     "traceback": [
      "MethodError: no method matching merge_sort(::Array{Int64,1}, ::Int64, ::Float64)\nClosest candidates are:\n  merge_sort(::Array, ::Integer, !Matched::Integer) at In[7]:3",
      "",
      "Stacktrace:",
      " [1] merge_sort(::Array{Int64,1}, ::Int64, ::Int64) at ./In[7]:6",
      " [2] top-level scope at In[12]:1",
      " [3] include_string(::Function, ::Module, ::String, ::String) at ./loading.jl:1091",
      " [4] execute_code(::String, ::String) at /home/phunc20/.julia/packages/IJulia/a1SNk/src/execute_request.jl:27",
      " [5] execute_request(::ZMQ.Socket, ::IJulia.Msg) at /home/phunc20/.julia/packages/IJulia/a1SNk/src/execute_request.jl:86",
      " [6] #invokelatest#1 at ./essentials.jl:710 [inlined]",
      " [7] invokelatest at ./essentials.jl:709 [inlined]",
      " [8] eventloop(::ZMQ.Socket) at /home/phunc20/.julia/packages/IJulia/a1SNk/src/eventloop.jl:8",
      " [9] (::IJulia.var\"#15#18\")() at ./task.jl:356"
     ]
    }
   ],
   "source": [
    "merge_sort(A, 1, length(A))  # in-place sort\n",
    "A"
   ]
  },
  {
   "cell_type": "code",
   "execution_count": 13,
   "id": "executed-ribbon",
   "metadata": {},
   "outputs": [
    {
     "data": {
      "text/plain": [
       "Int64"
      ]
     },
     "execution_count": 13,
     "metadata": {},
     "output_type": "execute_result"
    }
   ],
   "source": [
    "typeof(length(A))"
   ]
  },
  {
   "cell_type": "code",
   "execution_count": 14,
   "id": "supreme-machine",
   "metadata": {
    "scrolled": false
   },
   "outputs": [
    {
     "ename": "LoadError",
     "evalue": "MethodError: no method matching merge_sort(::Array{Int64,1}, ::Int64, ::Float64)\nClosest candidates are:\n  merge_sort(::Array, ::Integer, !Matched::Integer) at In[7]:3",
     "output_type": "error",
     "traceback": [
      "MethodError: no method matching merge_sort(::Array{Int64,1}, ::Int64, ::Float64)\nClosest candidates are:\n  merge_sort(::Array, ::Integer, !Matched::Integer) at In[7]:3",
      "",
      "Stacktrace:",
      " [1] merge_sort(::Array{Int64,1}, ::Int64, ::Int64) at ./In[7]:6",
      " [2] top-level scope at In[14]:1",
      " [3] include_string(::Function, ::Module, ::String, ::String) at ./loading.jl:1091",
      " [4] execute_code(::String, ::String) at /home/phunc20/.julia/packages/IJulia/a1SNk/src/execute_request.jl:27",
      " [5] execute_request(::ZMQ.Socket, ::IJulia.Msg) at /home/phunc20/.julia/packages/IJulia/a1SNk/src/execute_request.jl:86",
      " [6] #invokelatest#1 at ./essentials.jl:710 [inlined]",
      " [7] invokelatest at ./essentials.jl:709 [inlined]",
      " [8] eventloop(::ZMQ.Socket) at /home/phunc20/.julia/packages/IJulia/a1SNk/src/eventloop.jl:8",
      " [9] (::IJulia.var\"#15#18\")() at ./task.jl:356"
     ]
    }
   ],
   "source": [
    "merge_sort(A, 1, 10)"
   ]
  },
  {
   "cell_type": "code",
   "execution_count": 15,
   "id": "experimental-might",
   "metadata": {},
   "outputs": [
    {
     "data": {
      "text/html": [
       "# 1 method for generic function <b>merge_sort</b>:<ul><li> merge_sort(A::<b>Array</b>, p::<b>Integer</b>, r::<b>Integer</b>) in Main at In[7]:3</li> </ul>"
      ],
      "text/plain": [
       "# 1 method for generic function \"merge_sort\":\n",
       "[1] merge_sort(A::Array, p::Integer, r::Integer) in Main at In[7]:3"
      ]
     },
     "execution_count": 15,
     "metadata": {},
     "output_type": "execute_result"
    }
   ],
   "source": [
    "methods(merge_sort)"
   ]
  },
  {
   "cell_type": "markdown",
   "id": "ideal-queensland",
   "metadata": {},
   "source": [
    "**(?)** Why the second arg is recognized as a `Float`?<br>\n",
    "**(R)** After some confusion, I finally realize the cause:\n",
    "- It's **not** the calls like `merge_sort(A, 1, length(A))` or `merge_sort(A, 1, 10)` which cause problems\n",
    "- It's rather **the implementation of** `merge_sort` **itself** which causes problems\n",
    "\n",
    "Indeed, the `q = floor((p+r)/2)` is suspicious. The return value of the function `floor` is probably by default `Float64`."
   ]
  },
  {
   "cell_type": "code",
   "execution_count": 16,
   "id": "intensive-trouble",
   "metadata": {},
   "outputs": [
    {
     "data": {
      "text/plain": [
       "3.0"
      ]
     },
     "execution_count": 16,
     "metadata": {},
     "output_type": "execute_result"
    }
   ],
   "source": [
    "floor(3.14)"
   ]
  },
  {
   "cell_type": "code",
   "execution_count": 17,
   "id": "modular-state",
   "metadata": {},
   "outputs": [
    {
     "data": {
      "text/plain": [
       "Float64"
      ]
     },
     "execution_count": 17,
     "metadata": {},
     "output_type": "execute_result"
    }
   ],
   "source": [
    "typeof(floor(3.14))"
   ]
  },
  {
   "cell_type": "markdown",
   "id": "lesbian-attachment",
   "metadata": {},
   "source": [
    "Let's correct our def of `merge_sort`. The doc says that we can restrict the return value's type by `floor(T, x)`.<br>\n",
    "(cf. [https://docs.julialang.org/en/v1/base/math/#Base.floor](https://docs.julialang.org/en/v1/base/math/#Base.floor))\n",
    "\n",
    "Moreover, let's add to our new function a **keyword argument with default value** `merge::Function=merge2`, giving it the capability to switch its `MERGE` procedure.\n",
    "\n",
    "However, before that, let's **erase** the old and wrong `merge_sort`."
   ]
  },
  {
   "cell_type": "markdown",
   "id": "shared-organic",
   "metadata": {},
   "source": [
    "## Delete A Method: [`Base.delete_method`](https://discourse.julialang.org/t/deleting-methods-in-julia/13455)\n",
    "```julia\n",
    "julia> f(x::Integer) = 3.14           \n",
    "f (generic function with 1 method)\n",
    "\n",
    "julia> f(x::Int) = 2.71\n",
    "f (generic function with 2 methods)\n",
    "\n",
    "julia> subtypes(Integer)\n",
    "3-element Array{Any,1}:\n",
    " Bool\n",
    " Signed\n",
    " Unsigned\n",
    "\n",
    "julia> subtypes(Bool)\n",
    "Type[]\n",
    "\n",
    "julia> subtypes(Unsigned)\n",
    "5-element Array{Any,1}:\n",
    " UInt128\n",
    " UInt16\n",
    " UInt32\n",
    " UInt64\n",
    " UInt8\n",
    "\n",
    "julia> f(1)\n",
    "2.71\n",
    "\n",
    "julia> f(Integer(1))\n",
    "2.71\n",
    "\n",
    "julia> f(Unsigned(1))\n",
    "3.14\n",
    "\n",
    "julia> m = @which f(1)\n",
    "f(x::Int64) in Main at REPL[2]:1\n",
    "\n",
    "julia> m\n",
    "f(x::Int64) in Main at REPL[2]:1\n",
    "\n",
    "julia> methods(f)\n",
    "# 2 methods for generic function \"f\":\n",
    "[1] f(x::Int64) in Main at REPL[2]:1\n",
    "[2] f(x::Integer) in Main at REPL[1]:1\n",
    "\n",
    "julia> Base.delete_method(m)\n",
    "\n",
    "julia> methods(f)\n",
    "# 1 method for generic function \"f\":\n",
    "[1] f(x::Integer) in Main at REPL[1]:1\n",
    "```"
   ]
  },
  {
   "cell_type": "code",
   "execution_count": 18,
   "id": "divided-advisory",
   "metadata": {},
   "outputs": [
    {
     "data": {
      "text/latex": [
       "\\begin{verbatim}\n",
       "delete_method(m::Method)\n",
       "\\end{verbatim}\n",
       "Make method \\texttt{m} uncallable and force recompilation of any methods that use(d) it.\n",
       "\n"
      ],
      "text/markdown": [
       "```\n",
       "delete_method(m::Method)\n",
       "```\n",
       "\n",
       "Make method `m` uncallable and force recompilation of any methods that use(d) it.\n"
      ],
      "text/plain": [
       "\u001b[36m  delete_method(m::Method)\u001b[39m\n",
       "\n",
       "  Make method \u001b[36mm\u001b[39m uncallable and force recompilation of any methods that use(d)\n",
       "  it."
      ]
     },
     "execution_count": 18,
     "metadata": {},
     "output_type": "execute_result"
    }
   ],
   "source": [
    "?Base.delete_method"
   ]
  },
  {
   "cell_type": "code",
   "execution_count": 19,
   "id": "thorough-clock",
   "metadata": {},
   "outputs": [
    {
     "data": {
      "text/html": [
       "# 1 method for generic function <b>merge_sort</b>:<ul><li> merge_sort(A::<b>Array</b>, p::<b>Integer</b>, r::<b>Integer</b>) in Main at In[7]:3</li> </ul>"
      ],
      "text/plain": [
       "# 1 method for generic function \"merge_sort\":\n",
       "[1] merge_sort(A::Array, p::Integer, r::Integer) in Main at In[7]:3"
      ]
     },
     "execution_count": 19,
     "metadata": {},
     "output_type": "execute_result"
    }
   ],
   "source": [
    "methods(merge_sort)"
   ]
  },
  {
   "cell_type": "code",
   "execution_count": 20,
   "id": "recovered-video",
   "metadata": {},
   "outputs": [
    {
     "data": {
      "text/latex": [
       "\\begin{verbatim}\n",
       "delete_method(m::Method)\n",
       "\\end{verbatim}\n",
       "Make method \\texttt{m} uncallable and force recompilation of any methods that use(d) it.\n",
       "\n"
      ],
      "text/markdown": [
       "```\n",
       "delete_method(m::Method)\n",
       "```\n",
       "\n",
       "Make method `m` uncallable and force recompilation of any methods that use(d) it.\n"
      ],
      "text/plain": [
       "\u001b[36m  delete_method(m::Method)\u001b[39m\n",
       "\n",
       "  Make method \u001b[36mm\u001b[39m uncallable and force recompilation of any methods that use(d)\n",
       "  it."
      ]
     },
     "execution_count": 20,
     "metadata": {},
     "output_type": "execute_result"
    }
   ],
   "source": [
    "?Base.delete_method"
   ]
  },
  {
   "cell_type": "code",
   "execution_count": 21,
   "id": "derived-dover",
   "metadata": {},
   "outputs": [
    {
     "ename": "LoadError",
     "evalue": "MethodError: no method matching delete_method(::typeof(merge_sort))\nClosest candidates are:\n  delete_method(!Matched::Method) at reflection.jl:1326",
     "output_type": "error",
     "traceback": [
      "MethodError: no method matching delete_method(::typeof(merge_sort))\nClosest candidates are:\n  delete_method(!Matched::Method) at reflection.jl:1326",
      "",
      "Stacktrace:",
      " [1] top-level scope at In[21]:1",
      " [2] include_string(::Function, ::Module, ::String, ::String) at ./loading.jl:1091",
      " [3] execute_code(::String, ::String) at /home/phunc20/.julia/packages/IJulia/a1SNk/src/execute_request.jl:27",
      " [4] execute_request(::ZMQ.Socket, ::IJulia.Msg) at /home/phunc20/.julia/packages/IJulia/a1SNk/src/execute_request.jl:86",
      " [5] #invokelatest#1 at ./essentials.jl:710 [inlined]",
      " [6] invokelatest at ./essentials.jl:709 [inlined]",
      " [7] eventloop(::ZMQ.Socket) at /home/phunc20/.julia/packages/IJulia/a1SNk/src/eventloop.jl:8",
      " [8] (::IJulia.var\"#15#18\")() at ./task.jl:356"
     ]
    }
   ],
   "source": [
    "Base.delete_method(merge_sort)"
   ]
  },
  {
   "cell_type": "markdown",
   "id": "continuous-preliminary",
   "metadata": {},
   "source": [
    "**(?3)** `::Method` and `::Function`."
   ]
  },
  {
   "cell_type": "code",
   "execution_count": 22,
   "id": "laughing-jersey",
   "metadata": {},
   "outputs": [
    {
     "name": "stdout",
     "output_type": "stream",
     "text": [
      "Method <: Any"
     ]
    }
   ],
   "source": [
    "Base.show_supertypes(Method)"
   ]
  },
  {
   "cell_type": "code",
   "execution_count": 23,
   "id": "professional-mapping",
   "metadata": {},
   "outputs": [
    {
     "name": "stdout",
     "output_type": "stream",
     "text": [
      "Function <: Any"
     ]
    }
   ],
   "source": [
    "Base.show_supertypes(Function)"
   ]
  },
  {
   "cell_type": "code",
   "execution_count": 24,
   "id": "russian-eligibility",
   "metadata": {},
   "outputs": [
    {
     "data": {
      "text/html": [
       "merge_sort(A::<b>Array</b>, p::<b>Integer</b>, r::<b>Integer</b>) in Main at In[7]:3"
      ],
      "text/plain": [
       "merge_sort(A::Array, p::Integer, r::Integer) in Main at In[7]:3"
      ]
     },
     "execution_count": 24,
     "metadata": {},
     "output_type": "execute_result"
    }
   ],
   "source": [
    "m = @which merge_sort(A, 1, length(A))"
   ]
  },
  {
   "cell_type": "code",
   "execution_count": 25,
   "id": "touched-parking",
   "metadata": {},
   "outputs": [],
   "source": [
    "Base.delete_method(m)"
   ]
  },
  {
   "cell_type": "code",
   "execution_count": 26,
   "id": "illegal-peoples",
   "metadata": {},
   "outputs": [
    {
     "data": {
      "text/html": [
       "# 0 methods for generic function <b>merge_sort</b>:<ul></ul>"
      ],
      "text/plain": [
       "# 0 methods for generic function \"merge_sort\":"
      ]
     },
     "execution_count": 26,
     "metadata": {},
     "output_type": "execute_result"
    }
   ],
   "source": [
    "methods(merge_sort)"
   ]
  },
  {
   "cell_type": "markdown",
   "id": "regulated-cloud",
   "metadata": {},
   "source": [
    "## New, Corrected Definition of `merge_sort`"
   ]
  },
  {
   "cell_type": "code",
   "execution_count": 27,
   "id": "stable-anderson",
   "metadata": {},
   "outputs": [
    {
     "data": {
      "text/plain": [
       "merge_sort (generic function with 1 method)"
      ]
     },
     "execution_count": 27,
     "metadata": {},
     "output_type": "execute_result"
    }
   ],
   "source": [
    "function merge_sort(A::Array, p::Int, r::Int; merge::Function=merge2)\n",
    "  if p < r\n",
    "    q = floor(Integer, (p+r)/2)\n",
    "    merge_sort(A, p, q)\n",
    "    merge_sort(A, q+1, r)\n",
    "    merge(A, p, q, r)\n",
    "  end\n",
    "end"
   ]
  },
  {
   "cell_type": "code",
   "execution_count": 28,
   "id": "registered-refrigerator",
   "metadata": {},
   "outputs": [
    {
     "data": {
      "text/html": [
       "# 1 method for generic function <b>merge_sort</b>:<ul><li> merge_sort(A::<b>Array</b>, p::<b>Int64</b>, r::<b>Int64</b>; <i>merge</i>) in Main at In[27]:1</li> </ul>"
      ],
      "text/plain": [
       "# 1 method for generic function \"merge_sort\":\n",
       "[1] merge_sort(A::Array, p::Int64, r::Int64; merge) in Main at In[27]:1"
      ]
     },
     "execution_count": 28,
     "metadata": {},
     "output_type": "execute_result"
    }
   ],
   "source": [
    "methods(merge_sort)"
   ]
  },
  {
   "cell_type": "code",
   "execution_count": 29,
   "id": "ahead-renaissance",
   "metadata": {
    "scrolled": true
   },
   "outputs": [
    {
     "data": {
      "text/plain": [
       "10-element Array{Int64,1}:\n",
       "  7\n",
       "  8\n",
       " 26\n",
       " 34\n",
       " 35\n",
       " 42\n",
       " 48\n",
       " 55\n",
       " 68\n",
       " 86"
      ]
     },
     "execution_count": 29,
     "metadata": {},
     "output_type": "execute_result"
    }
   ],
   "source": [
    "merge_sort(A, 1, length(A))  # in-place sort\n",
    "A"
   ]
  },
  {
   "cell_type": "markdown",
   "id": "foreign-market",
   "metadata": {},
   "source": [
    "The reason for which I would like to at least run `merge_sort` once is because the procedure in the book (including its Julia implementation)\n",
    "looks incredibly and weirdly simple, just a single `while` loop with three lines inside. I can sort of convince myself of its correctness but verifying whether it sorts correctly programmatically gives some more assurance/comfort.\n",
    "\n",
    "Besides, note that the code works\n",
    "- not only for arrays of length power of $2$\n",
    "- but also arrays of arbitrary length"
   ]
  },
  {
   "cell_type": "markdown",
   "id": "complex-deviation",
   "metadata": {},
   "source": [
    "## Performance Measure\n",
    "Let's define some more `MERGE` procedures."
   ]
  },
  {
   "cell_type": "code",
   "execution_count": 30,
   "id": "rapid-overhead",
   "metadata": {},
   "outputs": [
    {
     "data": {
      "text/plain": [
       "merge3 (generic function with 1 method)"
      ]
     },
     "execution_count": 30,
     "metadata": {},
     "output_type": "execute_result"
    }
   ],
   "source": [
    "# Don't use the ∞ sentinel\n",
    "function merge3(A::Array, p::Integer, q::Integer, r::Integer)\n",
    "  n1 = q - p + 1\n",
    "  n2 = r - q\n",
    "  L = A[p:q]\n",
    "  R = A[q+1:r]\n",
    "  i = 1\n",
    "  j = 1\n",
    "  for k in p:r\n",
    "    # Must check here whether one of L and R is empty, e.g. whether i or j is out of index range\n",
    "    if i > n1\n",
    "      A[k:r] = R[j:end]\n",
    "      break\n",
    "    end\n",
    "    if j > n2\n",
    "      A[k:r] = L[i:end]\n",
    "      break\n",
    "    end\n",
    "    if L[i] <= R[j]\n",
    "      A[k] = L[i]\n",
    "      i += 1\n",
    "    else\n",
    "      A[k] = R[j]\n",
    "      j += 1\n",
    "    end\n",
    "  end\n",
    "end"
   ]
  },
  {
   "cell_type": "markdown",
   "id": "handmade-business",
   "metadata": {},
   "source": [
    "Let's check the correctness of `merge3`"
   ]
  },
  {
   "cell_type": "code",
   "execution_count": 34,
   "id": "about-bride",
   "metadata": {},
   "outputs": [
    {
     "name": "stdout",
     "output_type": "stream",
     "text": [
      "(Before) A = [86, 45, 68, 1, 14, 22, 48, 97, 64, 43]\n",
      "(After) A = [1, 14, 22, 43, 45, 48, 64, 68, 86, 97]\n"
     ]
    }
   ],
   "source": [
    "A = rand(1:100, 10)\n",
    "println(\"(Before) A = $A\")\n",
    "merge_sort(A, 1, length(A); merge=merge3)\n",
    "println(\"(After) A = $A\")"
   ]
  },
  {
   "cell_type": "code",
   "execution_count": 36,
   "id": "optimum-camcorder",
   "metadata": {},
   "outputs": [
    {
     "data": {
      "text/plain": [
       "(10,)"
      ]
     },
     "execution_count": 36,
     "metadata": {},
     "output_type": "execute_result"
    }
   ],
   "source": [
    "size(A)"
   ]
  },
  {
   "cell_type": "markdown",
   "id": "desirable-estonia",
   "metadata": {},
   "source": [
    "**(?)** At present `size(A)` equals `(n,)`. Can your `MERGE` and `MERGE-SORT` implementation handle the case when `size(A)` equals `(n,1)` or `(1,n)`?<br>\n",
    "**(R)** It can already deal with arrays of those shapes/sizes."
   ]
  },
  {
   "cell_type": "code",
   "execution_count": 77,
   "id": "occasional-deputy",
   "metadata": {
    "scrolled": true
   },
   "outputs": [
    {
     "name": "stdout",
     "output_type": "stream",
     "text": [
      "(Before) A = [0.502507829641994 0.7700718682247021 0.548349325678082 0.22911090580810245 0.03038002191298439 0.5979759208294226 0.6292036518961777 0.06704665845272628 0.803108926573846 0.7841476522820399]\n",
      "size(A) = (1, 10)\n",
      "\n",
      "(After) A = [0.03038002191298439 0.06704665845272628 0.22911090580810245 0.502507829641994 0.548349325678082 0.5979759208294226 0.6292036518961777 0.7700718682247021 0.7841476522820399 0.803108926573846]\n",
      "size(A) = (1, 10)\n"
     ]
    }
   ],
   "source": [
    "A = reshape(rand(10), (1,10))\n",
    "println(\"(Before) A = $A\")\n",
    "println(\"size(A) = $(size(A))\")\n",
    "println()\n",
    "merge_sort(A, 1, length(A); merge=merge3)\n",
    "println(\"(After) A = $A\")\n",
    "println(\"size(A) = $(size(A))\")"
   ]
  },
  {
   "cell_type": "code",
   "execution_count": 78,
   "id": "economic-section",
   "metadata": {},
   "outputs": [
    {
     "name": "stdout",
     "output_type": "stream",
     "text": [
      "(Before) A = [0.5219402669824906; 0.6535290964304388; 0.45576798181125544; 0.8345284215675444; 0.8913706365078133; 0.8595168570704448; 0.3300831619529432; 0.9053434055393417; 0.41617106633873124; 0.8033845132052739]\n",
      "size(A) = (10, 1)\n",
      "\n",
      "(After) A = [0.3300831619529432; 0.41617106633873124; 0.45576798181125544; 0.5219402669824906; 0.6535290964304388; 0.8033845132052739; 0.8345284215675444; 0.8595168570704448; 0.8913706365078133; 0.9053434055393417]\n",
      "size(A) = (10, 1)\n"
     ]
    }
   ],
   "source": [
    "A = reshape(rand(10), (10,1))\n",
    "println(\"(Before) A = $A\")\n",
    "println(\"size(A) = $(size(A))\")\n",
    "println()\n",
    "merge_sort(A, 1, length(A); merge=merge3)\n",
    "println(\"(After) A = $A\")\n",
    "println(\"size(A) = $(size(A))\")"
   ]
  },
  {
   "cell_type": "markdown",
   "id": "brown-planner",
   "metadata": {},
   "source": [
    "The reason is that the same indexing and the same slicing in the code works for all these shapes/sizes of arrays:"
   ]
  },
  {
   "cell_type": "code",
   "execution_count": null,
   "id": "civilian-capacity",
   "metadata": {},
   "outputs": [],
   "source": []
  },
  {
   "cell_type": "code",
   "execution_count": null,
   "id": "recognized-fishing",
   "metadata": {},
   "outputs": [],
   "source": []
  },
  {
   "cell_type": "code",
   "execution_count": null,
   "id": "initial-reserve",
   "metadata": {},
   "outputs": [],
   "source": []
  },
  {
   "cell_type": "code",
   "execution_count": 38,
   "id": "rocky-fishing",
   "metadata": {},
   "outputs": [
    {
     "data": {
      "text/plain": [
       "merge4 (generic function with 1 method)"
      ]
     },
     "execution_count": 38,
     "metadata": {},
     "output_type": "execute_result"
    }
   ],
   "source": [
    "# Don't use the ∞ sentinel and use view()\n",
    "function merge4(A::Array, p::Integer, q::Integer, r::Integer)\n",
    "  n1 = q - p + 1\n",
    "  n2 = r - q\n",
    "  L = view(A, p:q)\n",
    "  R = @view A[q+1:r]  # equiv. to view(A, q+1 ,r)\n",
    "  i = 1\n",
    "  j = 1\n",
    "  for k in p:r\n",
    "    # Must check here whether one of L and R is empty, e.g. whether i or j is out of index range\n",
    "    if i > n1\n",
    "      A[k:r] = R[j:end]\n",
    "      break\n",
    "    end\n",
    "    if j > n2\n",
    "      A[k:r] = L[i:end]\n",
    "      break\n",
    "    end\n",
    "    if L[i] <= R[j]\n",
    "      A[k] = L[i]\n",
    "      i += 1\n",
    "    else\n",
    "      A[k] = R[j]\n",
    "      j += 1\n",
    "    end\n",
    "  end\n",
    "end"
   ]
  },
  {
   "cell_type": "markdown",
   "id": "angry-timer",
   "metadata": {},
   "source": [
    "Let's test `merge4` -- I don't think it will work."
   ]
  },
  {
   "cell_type": "code",
   "execution_count": 39,
   "id": "trying-track",
   "metadata": {
    "scrolled": true
   },
   "outputs": [
    {
     "name": "stdout",
     "output_type": "stream",
     "text": [
      "(Before) A = [50, 26, 89, 34, 61, 37, 26, 38, 88, 11]\n",
      "(After) A = [11, 11, 11, 11, 11, 11, 26, 37, 38, 88]\n"
     ]
    }
   ],
   "source": [
    "A = rand(1:100, 10)\n",
    "println(\"(Before) A = $A\")\n",
    "merge_sort(A, 1, length(A); merge=merge4)\n",
    "println(\"(After) A = $A\")"
   ]
  },
  {
   "cell_type": "markdown",
   "id": "ranging-stake",
   "metadata": {},
   "source": [
    "Reason? See the following example.\n",
    "\n",
    "```julia\n",
    "julia> A = [10, 7]\n",
    "2-element Array{Int64,1}:\n",
    " 10\n",
    "  7\n",
    "\n",
    "julia> L = @view A[1]\n",
    "0-dimensional view(::Array{Int64,1}, 1) with eltype Int64:\n",
    "10\n",
    "\n",
    "julia> R = @view A[2]\n",
    "0-dimensional view(::Array{Int64,1}, 2) with eltype Int64:\n",
    "7\n",
    "\n",
    "julia> A[1] = R[1]\n",
    "7\n",
    "\n",
    "julia> L\n",
    "0-dimensional view(::Array{Int64,1}, 1) with eltype Int64:\n",
    "7\n",
    "\n",
    "julia> R\n",
    "0-dimensional view(::Array{Int64,1}, 2) with eltype Int64:\n",
    "7\n",
    "\n",
    "julia> A\n",
    "2-element Array{Int64,1}:\n",
    " 7\n",
    " 7\n",
    "```"
   ]
  },
  {
   "cell_type": "markdown",
   "id": "velvet-flexibility",
   "metadata": {},
   "source": [
    "> So, we should not use `view` when implementing `MERGE-SORT`."
   ]
  },
  {
   "cell_type": "code",
   "execution_count": 48,
   "id": "communist-silly",
   "metadata": {},
   "outputs": [
    {
     "data": {
      "text/plain": [
       "test_efficiency (generic function with 1 method)"
      ]
     },
     "execution_count": 48,
     "metadata": {},
     "output_type": "execute_result"
    }
   ],
   "source": [
    "function test_efficiency(merge::Function)\n",
    "  #A = rand(100)\n",
    "  A = Array(100:1)\n",
    "  merge_sort(A, 1, length(A); merge=merge)\n",
    "end"
   ]
  },
  {
   "cell_type": "markdown",
   "id": "expressed-idaho",
   "metadata": {},
   "source": [
    "**(?)** Try to make `merge_sort` able to accept `A` as `100:1`, instead of having to convert to `Array(100:1)`."
   ]
  },
  {
   "cell_type": "code",
   "execution_count": 68,
   "id": "intelligent-document",
   "metadata": {},
   "outputs": [
    {
     "data": {
      "text/plain": [
       "BenchmarkTools.Trial: \n",
       "  memory estimate:  80 bytes\n",
       "  allocs estimate:  1\n",
       "  --------------\n",
       "  minimum time:     35.622 ns (0.00% GC)\n",
       "  median time:      38.737 ns (0.00% GC)\n",
       "  mean time:        50.354 ns (11.31% GC)\n",
       "  maximum time:     4.621 μs (98.26% GC)\n",
       "  --------------\n",
       "  samples:          10000\n",
       "  evals/sample:     992"
      ]
     },
     "execution_count": 68,
     "metadata": {},
     "output_type": "execute_result"
    }
   ],
   "source": [
    "@benchmark test_efficiency(merge1)"
   ]
  },
  {
   "cell_type": "code",
   "execution_count": 69,
   "id": "supposed-trail",
   "metadata": {},
   "outputs": [
    {
     "data": {
      "text/plain": [
       "BenchmarkTools.Trial: \n",
       "  memory estimate:  80 bytes\n",
       "  allocs estimate:  1\n",
       "  --------------\n",
       "  minimum time:     35.821 ns (0.00% GC)\n",
       "  median time:      40.481 ns (0.00% GC)\n",
       "  mean time:        54.783 ns (11.58% GC)\n",
       "  maximum time:     5.489 μs (0.00% GC)\n",
       "  --------------\n",
       "  samples:          10000\n",
       "  evals/sample:     992"
      ]
     },
     "execution_count": 69,
     "metadata": {},
     "output_type": "execute_result"
    }
   ],
   "source": [
    "@benchmark test_efficiency(merge2)"
   ]
  },
  {
   "cell_type": "code",
   "execution_count": 70,
   "id": "starting-program",
   "metadata": {},
   "outputs": [
    {
     "data": {
      "text/plain": [
       "BenchmarkTools.Trial: \n",
       "  memory estimate:  80 bytes\n",
       "  allocs estimate:  1\n",
       "  --------------\n",
       "  minimum time:     35.869 ns (0.00% GC)\n",
       "  median time:      38.543 ns (0.00% GC)\n",
       "  mean time:        47.121 ns (11.72% GC)\n",
       "  maximum time:     3.913 μs (98.51% GC)\n",
       "  --------------\n",
       "  samples:          10000\n",
       "  evals/sample:     993"
      ]
     },
     "execution_count": 70,
     "metadata": {},
     "output_type": "execute_result"
    }
   ],
   "source": [
    "@benchmark test_efficiency(merge3)"
   ]
  },
  {
   "cell_type": "markdown",
   "id": "eight-continent",
   "metadata": {},
   "source": [
    "**(?)** So, which `merge` implementation is better than which? I ask so, because, if we run the above cells (The `@benchmark` ones) multiple times, we'd get different results. Although more often it seems that `merge1 > merge2 > merge3` but at times we get `merge3 > merge1 > merge2`.<br>\n",
    "**(R)** I guess their performances are more or less the same, the best probably is `merge1`.<br>"
   ]
  },
  {
   "cell_type": "markdown",
   "id": "expanded-affair",
   "metadata": {},
   "source": [
    "**(?)** But then, can you explain why `merge1` performs best?<br>\n",
    "**(R)** I know not the answer, but if I must try to answer the question, maybe it's because although `merge3` and `merge1`'s worst case run time are both $\\Theta(n)$, due to the fact that, at each iteration of `for k in p:r`, the code of `merge3` must check whether or not `L` or `R` is exhausted, that increases the constant running time of each iteration step."
   ]
  },
  {
   "cell_type": "code",
   "execution_count": null,
   "id": "numerous-flower",
   "metadata": {},
   "outputs": [],
   "source": []
  }
 ],
 "metadata": {
  "kernelspec": {
   "display_name": "Julia 1.5.2",
   "language": "julia",
   "name": "julia-1.5"
  },
  "language_info": {
   "file_extension": ".jl",
   "mimetype": "application/julia",
   "name": "julia",
   "version": "1.5.2"
  }
 },
 "nbformat": 4,
 "nbformat_minor": 5
}
