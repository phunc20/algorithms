{
 "cells": [
  {
   "cell_type": "code",
   "execution_count": 11,
   "id": "secret-proxy",
   "metadata": {},
   "outputs": [],
   "source": [
    "using BenchmarkTools"
   ]
  },
  {
   "cell_type": "code",
   "execution_count": 12,
   "id": "appropriate-shadow",
   "metadata": {},
   "outputs": [
    {
     "name": "stdout",
     "output_type": "stream",
     "text": [
      "\u001b[32m\u001b[1mStatus\u001b[22m\u001b[39m `~/.julia/environments/v1.5/Project.toml`\n",
      " \u001b[90m [6e4b80f9] \u001b[39m\u001b[37mBenchmarkTools v0.5.0\u001b[39m\n"
     ]
    }
   ],
   "source": [
    "]status BenchmarkTools"
   ]
  },
  {
   "cell_type": "code",
   "execution_count": 13,
   "id": "respective-pound",
   "metadata": {},
   "outputs": [
    {
     "data": {
      "text/plain": [
       "merge1 (generic function with 1 method)"
      ]
     },
     "execution_count": 13,
     "metadata": {},
     "output_type": "execute_result"
    }
   ],
   "source": [
    "function merge1(A::Array, p::Integer, q::Integer, r::Integer)\n",
    "  L = A[p:q]\n",
    "  push!(L, Inf)\n",
    "  R = A[q+1:r]\n",
    "  push!(R, Inf)\n",
    "  i = 1\n",
    "  j = 1\n",
    "  for k in p:r\n",
    "    if L[i] <= R[j]\n",
    "      A[k] = L[i]\n",
    "      i += 1\n",
    "    else\n",
    "      A[k] = R[j]\n",
    "      j += 1\n",
    "    end\n",
    "  end\n",
    "end"
   ]
  },
  {
   "cell_type": "code",
   "execution_count": 14,
   "id": "adequate-walter",
   "metadata": {},
   "outputs": [
    {
     "data": {
      "text/plain": [
       "merge2 (generic function with 1 method)"
      ]
     },
     "execution_count": 14,
     "metadata": {},
     "output_type": "execute_result"
    }
   ],
   "source": [
    "# Don't use push!\n",
    "function merge2(A::Array, p::Integer, q::Integer, r::Integer)\n",
    "  n1 = q - p + 1\n",
    "  n2 = r - q\n",
    "  L = zeros(n1+1)\n",
    "  R = zeros(n2+1)\n",
    "  L[1:end-1] = A[p:q]\n",
    "  L[end] = Inf\n",
    "  R[1:end-1] = A[q+1:r]\n",
    "  R[end] = Inf\n",
    "  i = 1\n",
    "  j = 1\n",
    "  for k in p:r\n",
    "    if L[i] <= R[j]\n",
    "      A[k] = L[i]\n",
    "      i += 1\n",
    "    else\n",
    "      A[k] = R[j]\n",
    "      j += 1\n",
    "    end\n",
    "  end\n",
    "end"
   ]
  },
  {
   "cell_type": "code",
   "execution_count": 15,
   "id": "relative-casting",
   "metadata": {},
   "outputs": [
    {
     "data": {
      "text/plain": [
       "DataType"
      ]
     },
     "execution_count": 15,
     "metadata": {},
     "output_type": "execute_result"
    }
   ],
   "source": [
    "typeof(Function)"
   ]
  },
  {
   "cell_type": "code",
   "execution_count": 16,
   "id": "brown-driver",
   "metadata": {},
   "outputs": [
    {
     "data": {
      "text/plain": [
       "true"
      ]
     },
     "execution_count": 16,
     "metadata": {},
     "output_type": "execute_result"
    }
   ],
   "source": [
    "merge1 isa Function"
   ]
  },
  {
   "cell_type": "code",
   "execution_count": 17,
   "id": "excess-label",
   "metadata": {},
   "outputs": [
    {
     "data": {
      "text/plain": [
       "merge_sort (generic function with 1 method)"
      ]
     },
     "execution_count": 17,
     "metadata": {},
     "output_type": "execute_result"
    }
   ],
   "source": [
    "# Int or other type is better?\n",
    "#function merge_sort(A::Array, p::Int, r::Int; merge::Function=merge2)\n",
    "function merge_sort(A::Array, p::Integer, r::Integer)\n",
    "  if p < r\n",
    "    q = floor((p+r)/2)\n",
    "    merge_sort(A, p, q)\n",
    "    merge_sort(A, q+1, r)\n",
    "    merge2(A, p, q, r)\n",
    "  end\n",
    "end"
   ]
  },
  {
   "cell_type": "code",
   "execution_count": 18,
   "id": "endangered-visiting",
   "metadata": {},
   "outputs": [
    {
     "data": {
      "text/plain": [
       "10-element Array{Int64,1}:\n",
       " 56\n",
       " 50\n",
       " 34\n",
       " 26\n",
       "  7\n",
       "  9\n",
       " 51\n",
       " 23\n",
       " 59\n",
       "  4"
      ]
     },
     "execution_count": 18,
     "metadata": {},
     "output_type": "execute_result"
    }
   ],
   "source": [
    "A = rand(1:100, 10)"
   ]
  },
  {
   "cell_type": "code",
   "execution_count": 19,
   "id": "prepared-finance",
   "metadata": {},
   "outputs": [
    {
     "data": {
      "text/plain": [
       "Int64"
      ]
     },
     "execution_count": 19,
     "metadata": {},
     "output_type": "execute_result"
    }
   ],
   "source": [
    "typeof(length(A))"
   ]
  },
  {
   "cell_type": "code",
   "execution_count": 23,
   "id": "experimental-might",
   "metadata": {},
   "outputs": [
    {
     "ename": "LoadError",
     "evalue": "LoadError: UndefVarError: @methods not defined\nin expression starting at In[23]:1",
     "output_type": "error",
     "traceback": [
      "LoadError: UndefVarError: @methods not defined\nin expression starting at In[23]:1",
      "",
      "Stacktrace:",
      " [1] top-level scope",
      " [2] include_string(::Function, ::Module, ::String, ::String) at ./loading.jl:1091",
      " [3] execute_code(::String, ::String) at /home/phunc20/.julia/packages/IJulia/a1SNk/src/execute_request.jl:27",
      " [4] execute_request(::ZMQ.Socket, ::IJulia.Msg) at /home/phunc20/.julia/packages/IJulia/a1SNk/src/execute_request.jl:86",
      " [5] #invokelatest#1 at ./essentials.jl:710 [inlined]",
      " [6] invokelatest at ./essentials.jl:709 [inlined]",
      " [7] eventloop(::ZMQ.Socket) at /home/phunc20/.julia/packages/IJulia/a1SNk/src/eventloop.jl:8",
      " [8] (::IJulia.var\"#15#18\")() at ./task.jl:356"
     ]
    }
   ],
   "source": [
    "@methods merge_sort"
   ]
  },
  {
   "cell_type": "code",
   "execution_count": 20,
   "id": "spoken-certification",
   "metadata": {},
   "outputs": [
    {
     "ename": "LoadError",
     "evalue": "MethodError: no method matching merge_sort(::Array{Int64,1}, ::Int64, ::Float64)\nClosest candidates are:\n  merge_sort(::Array, ::Integer, !Matched::Integer) at In[17]:3",
     "output_type": "error",
     "traceback": [
      "MethodError: no method matching merge_sort(::Array{Int64,1}, ::Int64, ::Float64)\nClosest candidates are:\n  merge_sort(::Array, ::Integer, !Matched::Integer) at In[17]:3",
      "",
      "Stacktrace:",
      " [1] merge_sort(::Array{Int64,1}, ::Int64, ::Int64) at ./In[17]:6",
      " [2] top-level scope at In[20]:1",
      " [3] include_string(::Function, ::Module, ::String, ::String) at ./loading.jl:1091",
      " [4] execute_code(::String, ::String) at /home/phunc20/.julia/packages/IJulia/a1SNk/src/execute_request.jl:27",
      " [5] execute_request(::ZMQ.Socket, ::IJulia.Msg) at /home/phunc20/.julia/packages/IJulia/a1SNk/src/execute_request.jl:86",
      " [6] #invokelatest#1 at ./essentials.jl:710 [inlined]",
      " [7] invokelatest at ./essentials.jl:709 [inlined]",
      " [8] eventloop(::ZMQ.Socket) at /home/phunc20/.julia/packages/IJulia/a1SNk/src/eventloop.jl:8",
      " [9] (::IJulia.var\"#15#18\")() at ./task.jl:356"
     ]
    }
   ],
   "source": [
    "merge_sort(A, 1, length(A))\n",
    "A"
   ]
  },
  {
   "cell_type": "code",
   "execution_count": null,
   "id": "registered-italy",
   "metadata": {},
   "outputs": [],
   "source": []
  }
 ],
 "metadata": {
  "kernelspec": {
   "display_name": "Julia (8 threads) 1.5.2",
   "language": "julia",
   "name": "julia-(8-threads)-1.5"
  },
  "language_info": {
   "file_extension": ".jl",
   "mimetype": "application/julia",
   "name": "julia",
   "version": "1.5.2"
  }
 },
 "nbformat": 4,
 "nbformat_minor": 5
}
