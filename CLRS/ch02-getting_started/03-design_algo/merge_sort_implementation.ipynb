{
 "cells": [
  {
   "cell_type": "markdown",
   "id": "disciplinary-tokyo",
   "metadata": {},
   "source": [
    "## Implementation of Merge Sort in Julia"
   ]
  },
  {
   "cell_type": "code",
   "execution_count": 3,
   "id": "secret-proxy",
   "metadata": {
    "scrolled": true
   },
   "outputs": [],
   "source": [
    "using BenchmarkTools"
   ]
  },
  {
   "cell_type": "code",
   "execution_count": 4,
   "id": "appropriate-shadow",
   "metadata": {},
   "outputs": [
    {
     "name": "stdout",
     "output_type": "stream",
     "text": [
      "\u001b[32m\u001b[1mStatus\u001b[22m\u001b[39m `~/.julia/environments/v1.5/Project.toml`\n",
      " \u001b[90m [6e4b80f9] \u001b[39m\u001b[37mBenchmarkTools v0.7.0\u001b[39m\n"
     ]
    }
   ],
   "source": [
    "]status BenchmarkTools"
   ]
  },
  {
   "cell_type": "code",
   "execution_count": 5,
   "id": "respective-pound",
   "metadata": {},
   "outputs": [
    {
     "data": {
      "text/plain": [
       "merge1 (generic function with 1 method)"
      ]
     },
     "execution_count": 5,
     "metadata": {},
     "output_type": "execute_result"
    }
   ],
   "source": [
    "function merge1(A::Array, p::Integer, q::Integer, r::Integer)\n",
    "  L = A[p:q]\n",
    "  push!(L, Inf)\n",
    "  R = A[q+1:r]\n",
    "  push!(R, Inf)\n",
    "  i = 1\n",
    "  j = 1\n",
    "  for k in p:r\n",
    "    if L[i] <= R[j]\n",
    "      A[k] = L[i]\n",
    "      i += 1\n",
    "    else\n",
    "      A[k] = R[j]\n",
    "      j += 1\n",
    "    end\n",
    "  end\n",
    "end"
   ]
  },
  {
   "cell_type": "markdown",
   "id": "local-wallet",
   "metadata": {},
   "source": [
    "**(?)** Here, which would be better? Using `view` or using copy? When implementing a `MERGE` procedure w/o sentinel, try implement one using `view`."
   ]
  },
  {
   "cell_type": "code",
   "execution_count": 6,
   "id": "adequate-walter",
   "metadata": {},
   "outputs": [
    {
     "data": {
      "text/plain": [
       "merge2 (generic function with 1 method)"
      ]
     },
     "execution_count": 6,
     "metadata": {},
     "output_type": "execute_result"
    }
   ],
   "source": [
    "# Don't use push!\n",
    "function merge2(A::Array, p::Integer, q::Integer, r::Integer)\n",
    "  n1 = q - p + 1\n",
    "  n2 = r - q\n",
    "  L = zeros(n1+1)\n",
    "  R = zeros(n2+1)\n",
    "  L[1:end-1] = A[p:q]\n",
    "  L[end] = Inf\n",
    "  R[1:end-1] = A[q+1:r]\n",
    "  R[end] = Inf\n",
    "  i = 1\n",
    "  j = 1\n",
    "  for k in p:r\n",
    "    if L[i] <= R[j]\n",
    "      A[k] = L[i]\n",
    "      i += 1\n",
    "    else\n",
    "      A[k] = R[j]\n",
    "      j += 1\n",
    "    end\n",
    "  end\n",
    "end"
   ]
  },
  {
   "cell_type": "code",
   "execution_count": 7,
   "id": "relative-casting",
   "metadata": {},
   "outputs": [
    {
     "data": {
      "text/plain": [
       "DataType"
      ]
     },
     "execution_count": 7,
     "metadata": {},
     "output_type": "execute_result"
    }
   ],
   "source": [
    "typeof(Function)"
   ]
  },
  {
   "cell_type": "code",
   "execution_count": 8,
   "id": "brown-driver",
   "metadata": {},
   "outputs": [
    {
     "data": {
      "text/plain": [
       "true"
      ]
     },
     "execution_count": 8,
     "metadata": {},
     "output_type": "execute_result"
    }
   ],
   "source": [
    "merge1 isa Function"
   ]
  },
  {
   "cell_type": "code",
   "execution_count": 9,
   "id": "excess-label",
   "metadata": {},
   "outputs": [
    {
     "data": {
      "text/plain": [
       "merge_sort (generic function with 1 method)"
      ]
     },
     "execution_count": 9,
     "metadata": {},
     "output_type": "execute_result"
    }
   ],
   "source": [
    "# Int or other type is better?\n",
    "#function merge_sort(A::Array, p::Integer, r::Integer; merge::Function=merge2)\n",
    "function merge_sort(A::Array, p::Integer, r::Integer)\n",
    "  if p < r\n",
    "    q = floor((p+r)/2)\n",
    "    merge_sort(A, p, q)\n",
    "    merge_sort(A, q+1, r)\n",
    "    merge2(A, p, q, r)\n",
    "  end\n",
    "end"
   ]
  },
  {
   "cell_type": "code",
   "execution_count": 10,
   "id": "military-withdrawal",
   "metadata": {},
   "outputs": [
    {
     "data": {
      "text/plain": [
       "true"
      ]
     },
     "execution_count": 10,
     "metadata": {},
     "output_type": "execute_result"
    }
   ],
   "source": [
    "Int == Int64"
   ]
  },
  {
   "cell_type": "code",
   "execution_count": 11,
   "id": "renewable-nutrition",
   "metadata": {},
   "outputs": [
    {
     "data": {
      "text/plain": [
       "true"
      ]
     },
     "execution_count": 11,
     "metadata": {},
     "output_type": "execute_result"
    }
   ],
   "source": [
    "Int <: Integer"
   ]
  },
  {
   "cell_type": "code",
   "execution_count": 12,
   "id": "considered-chase",
   "metadata": {},
   "outputs": [
    {
     "name": "stdout",
     "output_type": "stream",
     "text": [
      "Int64 <: Signed <: Integer <: Real <: Number <: Any"
     ]
    }
   ],
   "source": [
    "Base.show_supertypes(Int)"
   ]
  },
  {
   "cell_type": "markdown",
   "id": "french-deployment",
   "metadata": {},
   "source": [
    "**(?1)** Actually, the input args `p, q, r` above will always be positive integers (because they represents indices). Wouldn't specifying/restricting\n",
    "the type declaration in the function argument to `::Unsigned` a better choice?"
   ]
  },
  {
   "cell_type": "code",
   "execution_count": 13,
   "id": "endangered-visiting",
   "metadata": {},
   "outputs": [
    {
     "data": {
      "text/plain": [
       "10-element Array{Int64,1}:\n",
       "  82\n",
       "   4\n",
       "  16\n",
       "  54\n",
       " 100\n",
       "  50\n",
       "  61\n",
       "  15\n",
       "  73\n",
       "  35"
      ]
     },
     "execution_count": 13,
     "metadata": {},
     "output_type": "execute_result"
    }
   ],
   "source": [
    "A = rand(1:100, 10)"
   ]
  },
  {
   "cell_type": "code",
   "execution_count": 33,
   "id": "integral-assist",
   "metadata": {
    "scrolled": true
   },
   "outputs": [
    {
     "data": {
      "text/plain": [
       "10-element Array{Int64,1}:\n",
       "   4\n",
       "  15\n",
       "  16\n",
       "  35\n",
       "  50\n",
       "  54\n",
       "  61\n",
       "  73\n",
       "  82\n",
       " 100"
      ]
     },
     "execution_count": 33,
     "metadata": {},
     "output_type": "execute_result"
    }
   ],
   "source": [
    "merge_sort(A, 1, length(A))  # in-place sort\n",
    "A"
   ]
  },
  {
   "cell_type": "code",
   "execution_count": 15,
   "id": "executed-ribbon",
   "metadata": {},
   "outputs": [
    {
     "data": {
      "text/plain": [
       "Int64"
      ]
     },
     "execution_count": 15,
     "metadata": {},
     "output_type": "execute_result"
    }
   ],
   "source": [
    "typeof(length(A))"
   ]
  },
  {
   "cell_type": "code",
   "execution_count": 16,
   "id": "supreme-machine",
   "metadata": {
    "scrolled": true
   },
   "outputs": [
    {
     "ename": "LoadError",
     "evalue": "\u001b[91mMethodError: no method matching merge_sort(::Array{Int64,1}, ::Int64, ::Float64)\u001b[39m\n\u001b[91m\u001b[0mClosest candidates are:\u001b[39m\n\u001b[91m\u001b[0m  merge_sort(::Array, ::Integer, \u001b[91m::Integer\u001b[39m) at In[9]:3\u001b[39m",
     "output_type": "error",
     "traceback": [
      "\u001b[91mMethodError: no method matching merge_sort(::Array{Int64,1}, ::Int64, ::Float64)\u001b[39m\n\u001b[91m\u001b[0mClosest candidates are:\u001b[39m\n\u001b[91m\u001b[0m  merge_sort(::Array, ::Integer, \u001b[91m::Integer\u001b[39m) at In[9]:3\u001b[39m",
      "",
      "Stacktrace:",
      " [1] merge_sort(::Array{Int64,1}, ::Int64, ::Int64) at ./In[9]:6",
      " [2] top-level scope at In[16]:1",
      " [3] include_string(::Function, ::Module, ::String, ::String) at ./loading.jl:1091"
     ]
    }
   ],
   "source": [
    "merge_sort(A, 1, 10)"
   ]
  },
  {
   "cell_type": "code",
   "execution_count": 17,
   "id": "experimental-might",
   "metadata": {},
   "outputs": [
    {
     "data": {
      "text/html": [
       "# 1 method for generic function <b>merge_sort</b>:<ul><li> merge_sort(A::<b>Array</b>, p::<b>Integer</b>, r::<b>Integer</b>) in Main at In[9]:3</li> </ul>"
      ],
      "text/plain": [
       "# 1 method for generic function \"merge_sort\":\n",
       "[1] merge_sort(A::Array, p::Integer, r::Integer) in Main at In[9]:3"
      ]
     },
     "execution_count": 17,
     "metadata": {},
     "output_type": "execute_result"
    }
   ],
   "source": [
    "methods(merge_sort)"
   ]
  },
  {
   "cell_type": "markdown",
   "id": "ideal-queensland",
   "metadata": {},
   "source": [
    "**(?)** Why the second arg is recognized as a `Float`?<br>\n",
    "**(R)** After some confusion, I finally realize the cause:\n",
    "- It's **not** the calls like `merge_sort(A, 1, length(A))` or `merge_sort(A, 1, 10)` which cause problems\n",
    "- It's rather **the implementation of** `merge_sort` **itself** which causes problems\n",
    "\n",
    "Indeed, the `q = floor((p+r)/2)` is suspicious. The return value of the function `floor` is probably by default `Float64`."
   ]
  },
  {
   "cell_type": "code",
   "execution_count": 18,
   "id": "intensive-trouble",
   "metadata": {},
   "outputs": [
    {
     "data": {
      "text/plain": [
       "3.0"
      ]
     },
     "execution_count": 18,
     "metadata": {},
     "output_type": "execute_result"
    }
   ],
   "source": [
    "floor(3.14)"
   ]
  },
  {
   "cell_type": "code",
   "execution_count": 19,
   "id": "modular-state",
   "metadata": {},
   "outputs": [
    {
     "data": {
      "text/plain": [
       "Float64"
      ]
     },
     "execution_count": 19,
     "metadata": {},
     "output_type": "execute_result"
    }
   ],
   "source": [
    "typeof(floor(3.14))"
   ]
  },
  {
   "cell_type": "markdown",
   "id": "lesbian-attachment",
   "metadata": {},
   "source": [
    "Let's correct our def of `merge_sort`. The doc says that we can restrict the return value's type by `floor(T, x)`.<br>\n",
    "(cf. [https://docs.julialang.org/en/v1/base/math/#Base.floor](https://docs.julialang.org/en/v1/base/math/#Base.floor))\n",
    "\n",
    "Moreover, let's add to our new function a **keyword argument with default value** `merge::Function=merge2`, giving it the capability to switch its `MERGE` procedure.\n",
    "\n",
    "However, before that, let's **erase** the old and wrong `merge_sort`."
   ]
  },
  {
   "cell_type": "markdown",
   "id": "shared-organic",
   "metadata": {},
   "source": [
    "## Delete A Method: [`Base.delete_method`](https://discourse.julialang.org/t/deleting-methods-in-julia/13455)\n",
    "```julia\n",
    "julia> f(x::Integer) = 3.14           \n",
    "f (generic function with 1 method)\n",
    "\n",
    "julia> f(x::Int) = 2.71\n",
    "f (generic function with 2 methods)\n",
    "\n",
    "julia> subtypes(Integer)\n",
    "3-element Array{Any,1}:\n",
    " Bool\n",
    " Signed\n",
    " Unsigned\n",
    "\n",
    "julia> subtypes(Bool)\n",
    "Type[]\n",
    "\n",
    "julia> subtypes(Unsigned)\n",
    "5-element Array{Any,1}:\n",
    " UInt128\n",
    " UInt16\n",
    " UInt32\n",
    " UInt64\n",
    " UInt8\n",
    "\n",
    "julia> f(1)\n",
    "2.71\n",
    "\n",
    "julia> f(Integer(1))\n",
    "2.71\n",
    "\n",
    "julia> f(Unsigned(1))\n",
    "3.14\n",
    "\n",
    "julia> m = @which f(1)\n",
    "f(x::Int64) in Main at REPL[2]:1\n",
    "\n",
    "julia> m\n",
    "f(x::Int64) in Main at REPL[2]:1\n",
    "\n",
    "julia> methods(f)\n",
    "# 2 methods for generic function \"f\":\n",
    "[1] f(x::Int64) in Main at REPL[2]:1\n",
    "[2] f(x::Integer) in Main at REPL[1]:1\n",
    "\n",
    "julia> Base.delete_method(m)\n",
    "\n",
    "julia> methods(f)\n",
    "# 1 method for generic function \"f\":\n",
    "[1] f(x::Integer) in Main at REPL[1]:1\n",
    "```"
   ]
  },
  {
   "cell_type": "code",
   "execution_count": 1,
   "id": "divided-advisory",
   "metadata": {},
   "outputs": [
    {
     "data": {
      "text/latex": [
       "\\begin{verbatim}\n",
       "delete_method(m::Method)\n",
       "\\end{verbatim}\n",
       "Make method \\texttt{m} uncallable and force recompilation of any methods that use(d) it.\n",
       "\n"
      ],
      "text/markdown": [
       "```\n",
       "delete_method(m::Method)\n",
       "```\n",
       "\n",
       "Make method `m` uncallable and force recompilation of any methods that use(d) it.\n"
      ],
      "text/plain": [
       "\u001b[36m  delete_method(m::Method)\u001b[39m\n",
       "\n",
       "  Make method \u001b[36mm\u001b[39m uncallable and force recompilation of any methods that use(d)\n",
       "  it."
      ]
     },
     "execution_count": 1,
     "metadata": {},
     "output_type": "execute_result"
    }
   ],
   "source": [
    "?Base.delete_method"
   ]
  },
  {
   "cell_type": "code",
   "execution_count": 22,
   "id": "thorough-clock",
   "metadata": {},
   "outputs": [
    {
     "data": {
      "text/html": [
       "# 1 method for generic function <b>merge_sort</b>:<ul><li> merge_sort(A::<b>Array</b>, p::<b>Integer</b>, r::<b>Integer</b>) in Main at In[9]:3</li> </ul>"
      ],
      "text/plain": [
       "# 1 method for generic function \"merge_sort\":\n",
       "[1] merge_sort(A::Array, p::Integer, r::Integer) in Main at In[9]:3"
      ]
     },
     "execution_count": 22,
     "metadata": {},
     "output_type": "execute_result"
    }
   ],
   "source": [
    "methods(merge_sort)"
   ]
  },
  {
   "cell_type": "code",
   "execution_count": 24,
   "id": "recovered-video",
   "metadata": {},
   "outputs": [
    {
     "data": {
      "text/latex": [
       "\\begin{verbatim}\n",
       "delete_method(m::Method)\n",
       "\\end{verbatim}\n",
       "Make method \\texttt{m} uncallable and force recompilation of any methods that use(d) it.\n",
       "\n"
      ],
      "text/markdown": [
       "```\n",
       "delete_method(m::Method)\n",
       "```\n",
       "\n",
       "Make method `m` uncallable and force recompilation of any methods that use(d) it.\n"
      ],
      "text/plain": [
       "\u001b[36m  delete_method(m::Method)\u001b[39m\n",
       "\n",
       "  Make method \u001b[36mm\u001b[39m uncallable and force recompilation of any methods that use(d)\n",
       "  it."
      ]
     },
     "execution_count": 24,
     "metadata": {},
     "output_type": "execute_result"
    }
   ],
   "source": [
    "?Base.delete_method"
   ]
  },
  {
   "cell_type": "code",
   "execution_count": 23,
   "id": "derived-dover",
   "metadata": {},
   "outputs": [
    {
     "ename": "LoadError",
     "evalue": "\u001b[91mMethodError: no method matching delete_method(::typeof(merge_sort))\u001b[39m\n\u001b[91m\u001b[0mClosest candidates are:\u001b[39m\n\u001b[91m\u001b[0m  delete_method(\u001b[91m::Method\u001b[39m) at reflection.jl:1326\u001b[39m",
     "output_type": "error",
     "traceback": [
      "\u001b[91mMethodError: no method matching delete_method(::typeof(merge_sort))\u001b[39m\n\u001b[91m\u001b[0mClosest candidates are:\u001b[39m\n\u001b[91m\u001b[0m  delete_method(\u001b[91m::Method\u001b[39m) at reflection.jl:1326\u001b[39m",
      "",
      "Stacktrace:",
      " [1] top-level scope at In[23]:1",
      " [2] include_string(::Function, ::Module, ::String, ::String) at ./loading.jl:1091"
     ]
    }
   ],
   "source": [
    "Base.delete_method(merge_sort)"
   ]
  },
  {
   "cell_type": "markdown",
   "id": "continuous-preliminary",
   "metadata": {},
   "source": [
    "**(?3)** `::Method` and `::Function`."
   ]
  },
  {
   "cell_type": "code",
   "execution_count": 25,
   "id": "laughing-jersey",
   "metadata": {},
   "outputs": [
    {
     "name": "stdout",
     "output_type": "stream",
     "text": [
      "Method <: Any"
     ]
    }
   ],
   "source": [
    "Base.show_supertypes(Method)"
   ]
  },
  {
   "cell_type": "code",
   "execution_count": 26,
   "id": "professional-mapping",
   "metadata": {},
   "outputs": [
    {
     "name": "stdout",
     "output_type": "stream",
     "text": [
      "Function <: Any"
     ]
    }
   ],
   "source": [
    "Base.show_supertypes(Function)"
   ]
  },
  {
   "cell_type": "code",
   "execution_count": 27,
   "id": "russian-eligibility",
   "metadata": {},
   "outputs": [
    {
     "data": {
      "text/html": [
       "merge_sort(A::<b>Array</b>, p::<b>Integer</b>, r::<b>Integer</b>) in Main at In[9]:3"
      ],
      "text/plain": [
       "merge_sort(A::Array, p::Integer, r::Integer) in Main at In[9]:3"
      ]
     },
     "execution_count": 27,
     "metadata": {},
     "output_type": "execute_result"
    }
   ],
   "source": [
    "m = @which merge_sort(A, 1, length(A))"
   ]
  },
  {
   "cell_type": "code",
   "execution_count": 28,
   "id": "touched-parking",
   "metadata": {},
   "outputs": [],
   "source": [
    "Base.delete_method(m)"
   ]
  },
  {
   "cell_type": "code",
   "execution_count": 30,
   "id": "illegal-peoples",
   "metadata": {},
   "outputs": [
    {
     "data": {
      "text/html": [
       "# 0 methods for generic function <b>merge_sort</b>:<ul></ul>"
      ],
      "text/plain": [
       "# 0 methods for generic function \"merge_sort\":"
      ]
     },
     "execution_count": 30,
     "metadata": {},
     "output_type": "execute_result"
    }
   ],
   "source": [
    "methods(merge_sort)"
   ]
  },
  {
   "cell_type": "markdown",
   "id": "regulated-cloud",
   "metadata": {},
   "source": [
    "## New, Corrected Definition of `merge_sort`"
   ]
  },
  {
   "cell_type": "code",
   "execution_count": 31,
   "id": "stable-anderson",
   "metadata": {},
   "outputs": [
    {
     "data": {
      "text/plain": [
       "merge_sort (generic function with 1 method)"
      ]
     },
     "execution_count": 31,
     "metadata": {},
     "output_type": "execute_result"
    }
   ],
   "source": [
    "function merge_sort(A::Array, p::Int, r::Int; merge::Function=merge2)\n",
    "  if p < r\n",
    "    q = floor(Integer, (p+r)/2)\n",
    "    merge_sort(A, p, q)\n",
    "    merge_sort(A, q+1, r)\n",
    "    merge(A, p, q, r)\n",
    "  end\n",
    "end"
   ]
  },
  {
   "cell_type": "code",
   "execution_count": 32,
   "id": "registered-refrigerator",
   "metadata": {},
   "outputs": [
    {
     "data": {
      "text/html": [
       "# 1 method for generic function <b>merge_sort</b>:<ul><li> merge_sort(A::<b>Array</b>, p::<b>Int64</b>, r::<b>Int64</b>; <i>merge</i>) in Main at In[31]:1</li> </ul>"
      ],
      "text/plain": [
       "# 1 method for generic function \"merge_sort\":\n",
       "[1] merge_sort(A::Array, p::Int64, r::Int64; merge) in Main at In[31]:1"
      ]
     },
     "execution_count": 32,
     "metadata": {},
     "output_type": "execute_result"
    }
   ],
   "source": [
    "methods(merge_sort)"
   ]
  },
  {
   "cell_type": "code",
   "execution_count": 33,
   "id": "ahead-renaissance",
   "metadata": {
    "scrolled": true
   },
   "outputs": [
    {
     "data": {
      "text/plain": [
       "10-element Array{Int64,1}:\n",
       "   4\n",
       "  15\n",
       "  16\n",
       "  35\n",
       "  50\n",
       "  54\n",
       "  61\n",
       "  73\n",
       "  82\n",
       " 100"
      ]
     },
     "execution_count": 33,
     "metadata": {},
     "output_type": "execute_result"
    }
   ],
   "source": [
    "merge_sort(A, 1, length(A))  # in-place sort\n",
    "A"
   ]
  },
  {
   "cell_type": "markdown",
   "id": "foreign-market",
   "metadata": {},
   "source": [
    "The reason for which I would like to at least run `merge_sort` once is because the procedure in the book (including its Julia implementation)\n",
    "looks incredibly and weirdly simple, just a single `while` loop with three lines inside. I want to verify whether it sorts correctly."
   ]
  },
  {
   "cell_type": "markdown",
   "id": "complex-deviation",
   "metadata": {},
   "source": [
    "## Performance Measure"
   ]
  },
  {
   "cell_type": "code",
   "execution_count": 65,
   "id": "rapid-overhead",
   "metadata": {},
   "outputs": [
    {
     "data": {
      "text/plain": [
       "merge3 (generic function with 1 method)"
      ]
     },
     "execution_count": 65,
     "metadata": {},
     "output_type": "execute_result"
    }
   ],
   "source": [
    "# Don't use the ∞ sentinel\n",
    "function merge3(A::Array, p::Integer, q::Integer, r::Integer)\n",
    "  n1 = q - p + 1\n",
    "  n2 = r - q\n",
    "  #L = zeros(n1+1)\n",
    "  #R = zeros(n2+1)\n",
    "  L = A[p:q]\n",
    "  #L[end] = Inf\n",
    "  R = A[q+1:r]\n",
    "  #R[end] = Inf\n",
    "  i = 1\n",
    "  j = 1\n",
    "  for k in p:r\n",
    "    # Must check here whether one of L and R is empty, e.g. whether i or j is out of index range\n",
    "    if i > n1\n",
    "      A[k:r] = R[j:end]\n",
    "      break\n",
    "    end\n",
    "    if j > n2\n",
    "      A[k:r] = L[i:end]\n",
    "      break\n",
    "    end\n",
    "    if L[i] <= R[j]\n",
    "      A[k] = L[i]\n",
    "      i += 1\n",
    "    else\n",
    "      A[k] = R[j]\n",
    "      j += 1\n",
    "    end\n",
    "  end\n",
    "end"
   ]
  },
  {
   "cell_type": "code",
   "execution_count": 66,
   "id": "associate-cycle",
   "metadata": {},
   "outputs": [
    {
     "data": {
      "text/plain": [
       "merge4 (generic function with 1 method)"
      ]
     },
     "execution_count": 66,
     "metadata": {},
     "output_type": "execute_result"
    }
   ],
   "source": [
    "# Don't use the ∞ sentinel and use view()\n",
    "function merge4(A::Array, p::Integer, q::Integer, r::Integer)\n",
    "  n1 = q - p + 1\n",
    "  n2 = r - q\n",
    "  L = zeros(n1+1)\n",
    "  R = zeros(n2+1)\n",
    "  L[1:end-1] = A[p:q]\n",
    "  L[end] = Inf\n",
    "  R[1:end-1] = A[q+1:r]\n",
    "  R[end] = Inf\n",
    "  i = 1\n",
    "  j = 1\n",
    "  for k in p:r\n",
    "    if L[i] <= R[j]\n",
    "      A[k] = L[i]\n",
    "      i += 1\n",
    "    else\n",
    "      A[k] = R[j]\n",
    "      j += 1\n",
    "    end\n",
    "  end\n",
    "end"
   ]
  },
  {
   "cell_type": "code",
   "execution_count": null,
   "id": "eastern-water",
   "metadata": {},
   "outputs": [],
   "source": []
  }
 ],
 "metadata": {
  "kernelspec": {
   "display_name": "Julia 1.5.3",
   "language": "julia",
   "name": "julia-1.5"
  },
  "language_info": {
   "file_extension": ".jl",
   "mimetype": "application/julia",
   "name": "julia",
   "version": "1.5.3"
  }
 },
 "nbformat": 4,
 "nbformat_minor": 5
}
