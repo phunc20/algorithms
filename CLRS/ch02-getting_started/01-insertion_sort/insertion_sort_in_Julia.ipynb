{
 "cells": [
  {
   "cell_type": "markdown",
   "id": "exact-applicant",
   "metadata": {},
   "source": [
    "## Insertion Sort\n",
    "At a n-th lecture of Section 2.1 on insertion sort, I decided to recall the procedure/code\n",
    "without reading it. The result is a code slightly diff from the one in the book -- The\n",
    "book uses a `while` loop whereas I used a `for` loop. I want to record this result and\n",
    "my failures."
   ]
  },
  {
   "cell_type": "code",
   "execution_count": 1,
   "id": "innovative-garlic",
   "metadata": {},
   "outputs": [
    {
     "data": {
      "text/plain": [
       "insertion_sort1 (generic function with 1 method)"
      ]
     },
     "execution_count": 1,
     "metadata": {},
     "output_type": "execute_result"
    }
   ],
   "source": [
    "# Failed attempt\n",
    "\n",
    "# Both signatures below are ok.\n",
    "#function insertion_sort1(A::Array{T}) where {T <: Number}\n",
    "function insertion_sort1(A::Array)\n",
    "  for j = 2:length(A)\n",
    "    key = A[j]\n",
    "    # Insert A[j] into A[1 .. j-1]\n",
    "    for i = j-1:-1:1\n",
    "      if A[i] > key\n",
    "        A[i+1] = A[i]\n",
    "      else\n",
    "        A[i+1] = key\n",
    "        break\n",
    "      end\n",
    "    end\n",
    "  end\n",
    "  # Do we return A or not?\n",
    "end"
   ]
  },
  {
   "cell_type": "code",
   "execution_count": 2,
   "id": "current-broadway",
   "metadata": {},
   "outputs": [
    {
     "data": {
      "text/plain": [
       "6-element Array{Int64,1}:\n",
       " 5\n",
       " 2\n",
       " 4\n",
       " 6\n",
       " 1\n",
       " 3"
      ]
     },
     "execution_count": 2,
     "metadata": {},
     "output_type": "execute_result"
    }
   ],
   "source": [
    "#example_array = [5 2 4 6 1 3]  # This gives a size of (1, 6)\n",
    "example_array = [5, 2, 4, 6, 1, 3]  # This gives a size of (6,)"
   ]
  },
  {
   "cell_type": "code",
   "execution_count": 3,
   "id": "pursuant-verse",
   "metadata": {},
   "outputs": [
    {
     "data": {
      "text/plain": [
       "6-element Array{Int64,1}:\n",
       " 5\n",
       " 5\n",
       " 5\n",
       " 5\n",
       " 5\n",
       " 6"
      ]
     },
     "execution_count": 3,
     "metadata": {},
     "output_type": "execute_result"
    }
   ],
   "source": [
    "insertion_sort1(example_array)\n",
    "example_array"
   ]
  },
  {
   "cell_type": "markdown",
   "id": "separated-absorption",
   "metadata": {},
   "source": [
    "**(?1)** Can you explain the above output?<br>\n",
    "**(R1)** It can be briefly explained as follows\n",
    "- When the elements are all less than `5`, the `5` get reproduced;\n",
    "- When the first element greater than `5`, here `6`, appears, it was placed at the last index\n",
    "- When further elements are examined, they are all less than `5`, so `6` gets placed further and so are the `5`'s"
   ]
  },
  {
   "cell_type": "markdown",
   "id": "sapphire-depth",
   "metadata": {},
   "source": [
    "One obvious mistake in the foregoing implementation of insertion sort is\n",
    "> When the key has to be placed at the very first index, that code failed to do so.\n",
    "\n",
    "Let's fix this."
   ]
  },
  {
   "cell_type": "code",
   "execution_count": 4,
   "id": "given-mainstream",
   "metadata": {},
   "outputs": [
    {
     "data": {
      "text/plain": [
       "insertion_sort2 (generic function with 1 method)"
      ]
     },
     "execution_count": 4,
     "metadata": {},
     "output_type": "execute_result"
    }
   ],
   "source": [
    "# Probably correct attempt:\n",
    "# Add a flag to reflect the fact that we have or not inserted the key\n",
    "function insertion_sort2(A::Array)\n",
    "  for j = 2:length(A)\n",
    "    key = A[j]\n",
    "    # Insert A[j] into A[1 .. j-1]\n",
    "    inserted = false\n",
    "    for i = j-1:-1:1\n",
    "      if A[i] > key\n",
    "        A[i+1] = A[i]\n",
    "      else\n",
    "        A[i+1] = key\n",
    "        inserted = true\n",
    "        break\n",
    "      end\n",
    "    end\n",
    "    if !inserted\n",
    "      A[1] = key\n",
    "    end\n",
    "  end\n",
    "end"
   ]
  },
  {
   "cell_type": "code",
   "execution_count": 5,
   "id": "exterior-disaster",
   "metadata": {},
   "outputs": [
    {
     "data": {
      "text/plain": [
       "6-element Array{Int64,1}:\n",
       " 5\n",
       " 2\n",
       " 4\n",
       " 6\n",
       " 1\n",
       " 3"
      ]
     },
     "execution_count": 5,
     "metadata": {},
     "output_type": "execute_result"
    }
   ],
   "source": [
    "example_array = [5, 2, 4, 6, 1, 3]"
   ]
  },
  {
   "cell_type": "code",
   "execution_count": 6,
   "id": "initial-watershed",
   "metadata": {},
   "outputs": [
    {
     "data": {
      "text/plain": [
       "6-element Array{Int64,1}:\n",
       " 1\n",
       " 2\n",
       " 3\n",
       " 4\n",
       " 5\n",
       " 6"
      ]
     },
     "execution_count": 6,
     "metadata": {},
     "output_type": "execute_result"
    }
   ],
   "source": [
    "insertion_sort2(example_array)\n",
    "example_array"
   ]
  },
  {
   "cell_type": "markdown",
   "id": "thirty-implement",
   "metadata": {},
   "source": [
    "**Note**. A similar procedure can be written to sort an array in decreasing order."
   ]
  },
  {
   "cell_type": "markdown",
   "id": "upper-adult",
   "metadata": {},
   "source": [
    "Let's see what the textbook's procedure gives."
   ]
  },
  {
   "cell_type": "code",
   "execution_count": 7,
   "id": "cleared-connection",
   "metadata": {},
   "outputs": [
    {
     "data": {
      "text/plain": [
       "textbook_insertion_sort (generic function with 1 method)"
      ]
     },
     "execution_count": 7,
     "metadata": {},
     "output_type": "execute_result"
    }
   ],
   "source": [
    "function textbook_insertion_sort(A::Array)\n",
    "  for j = 2:length(A)\n",
    "    key = A[j]\n",
    "    # Insert A[j] into A[1 .. j-1]\n",
    "    i = j - 1\n",
    "    while i > 0 && A[i] > key\n",
    "      A[i+1] = A[i]\n",
    "      i -= 1\n",
    "    end\n",
    "    A[i+1] = key\n",
    "  end\n",
    "end"
   ]
  },
  {
   "cell_type": "code",
   "execution_count": 8,
   "id": "bronze-customs",
   "metadata": {},
   "outputs": [
    {
     "data": {
      "text/plain": [
       "6-element Array{Int64,1}:\n",
       " 5\n",
       " 2\n",
       " 4\n",
       " 6\n",
       " 1\n",
       " 3"
      ]
     },
     "execution_count": 8,
     "metadata": {},
     "output_type": "execute_result"
    }
   ],
   "source": [
    "example_array = [5, 2, 4, 6, 1, 3]"
   ]
  },
  {
   "cell_type": "code",
   "execution_count": 9,
   "id": "successful-humidity",
   "metadata": {},
   "outputs": [
    {
     "data": {
      "text/plain": [
       "6-element Array{Int64,1}:\n",
       " 1\n",
       " 2\n",
       " 3\n",
       " 4\n",
       " 5\n",
       " 6"
      ]
     },
     "execution_count": 9,
     "metadata": {},
     "output_type": "execute_result"
    }
   ],
   "source": [
    "textbook_insertion_sort(example_array)\n",
    "example_array"
   ]
  }
 ],
 "metadata": {
  "kernelspec": {
   "display_name": "Julia (2 threads) 1.5.3",
   "language": "julia",
   "name": "julia-(2-threads)-1.5"
  },
  "language_info": {
   "file_extension": ".jl",
   "mimetype": "application/julia",
   "name": "julia",
   "version": "1.5.3"
  }
 },
 "nbformat": 4,
 "nbformat_minor": 5
}
