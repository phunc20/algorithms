{
 "cells": [
  {
   "cell_type": "markdown",
   "id": "bcd5004d",
   "metadata": {},
   "source": [
    "# The Handshaking Lemma\n",
    "It $G = (V, E)$ is an undirected graph, then\n",
    "$$\n",
    "  \\sum_{v \\in V} \\text{degree}(v) = 2\\,\\lvert E\\rvert\\,.\n",
    "$$"
   ]
  },
  {
   "cell_type": "markdown",
   "id": "650adc01",
   "metadata": {},
   "source": [
    "**Rmk**. Note that the handshaking lemma does not require that every person shakes hands with every other person.\n",
    "That is, in the proof of handshaking lemma, $E$ (of an undirected graph $G = (V, E)\\,$) does not have to\n",
    "contain every pair $(u, v)$ with $u \\neq v \\in V.$"
   ]
  },
  {
   "cell_type": "markdown",
   "id": "e54916dd",
   "metadata": {},
   "source": [
    "## My Proof\n",
    "When calculating the sum of the degrees of each vertex, we can iterate through the set $E.$ Each edge $(u, v)$ in $E$\n",
    "contributes to exactly two degrees -- one for $u$, the other for $v.$ This proves the above formula."
   ]
  }
 ],
 "metadata": {
  "kernelspec": {
   "display_name": "Python 3",
   "language": "python",
   "name": "python3"
  },
  "language_info": {
   "codemirror_mode": {
    "name": "ipython",
    "version": 3
   },
   "file_extension": ".py",
   "mimetype": "text/x-python",
   "name": "python",
   "nbconvert_exporter": "python",
   "pygments_lexer": "ipython3",
   "version": "3.7.8"
  }
 },
 "nbformat": 4,
 "nbformat_minor": 5
}
